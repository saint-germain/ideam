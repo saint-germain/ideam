{
 "cells": [
  {
   "cell_type": "code",
   "execution_count": 3,
   "metadata": {
    "collapsed": true
   },
   "outputs": [],
   "source": [
    "import pandas as pd\n",
    "import numpy as np\n",
    "import matplotlib.pyplot as plt\n",
    "%matplotlib inline"
   ]
  },
  {
   "cell_type": "code",
   "execution_count": 3,
   "metadata": {
    "collapsed": true
   },
   "outputs": [],
   "source": [
    "df=pd.read_csv(\"KENNEDY_data_2012.csv\",index_col=0)"
   ]
  },
  {
   "cell_type": "code",
   "execution_count": 6,
   "metadata": {
    "collapsed": true
   },
   "outputs": [],
   "source": [
    "df5=pd.read_csv(\"estaciones.csv\")"
   ]
  },
  {
   "cell_type": "code",
   "execution_count": 5,
   "metadata": {
    "collapsed": true
   },
   "outputs": [],
   "source": [
    "df1=df[df.EstCerc==df.EstMed]"
   ]
  },
  {
   "cell_type": "code",
   "execution_count": 6,
   "metadata": {
    "scrolled": true
   },
   "outputs": [
    {
     "data": {
      "text/html": [
       "<div>\n",
       "<table border=\"1\" class=\"dataframe\">\n",
       "  <thead>\n",
       "    <tr style=\"text-align: right;\">\n",
       "      <th></th>\n",
       "      <th>AOD</th>\n",
       "      <th>Date</th>\n",
       "      <th>Dist</th>\n",
       "      <th>EstCerc</th>\n",
       "      <th>EstMed</th>\n",
       "      <th>PM25</th>\n",
       "    </tr>\n",
       "  </thead>\n",
       "  <tbody>\n",
       "    <tr>\n",
       "      <th>0</th>\n",
       "      <td>0.343</td>\n",
       "      <td>2012-01-01 14:30:00</td>\n",
       "      <td>4.482620</td>\n",
       "      <td>CARVAJAL</td>\n",
       "      <td>KENNEDY</td>\n",
       "      <td>21</td>\n",
       "    </tr>\n",
       "    <tr>\n",
       "      <th>1</th>\n",
       "      <td>0.419</td>\n",
       "      <td>2012-01-02 15:40:00</td>\n",
       "      <td>0.812663</td>\n",
       "      <td>KENNEDY</td>\n",
       "      <td>KENNEDY</td>\n",
       "      <td>26</td>\n",
       "    </tr>\n",
       "    <tr>\n",
       "      <th>2</th>\n",
       "      <td>0.171</td>\n",
       "      <td>2012-01-03 14:20:00</td>\n",
       "      <td>59.662712</td>\n",
       "      <td>USAQUEN</td>\n",
       "      <td>KENNEDY</td>\n",
       "      <td>27</td>\n",
       "    </tr>\n",
       "    <tr>\n",
       "      <th>3</th>\n",
       "      <td>0.550</td>\n",
       "      <td>2012-01-06 14:50:00</td>\n",
       "      <td>26.466803</td>\n",
       "      <td>FERIAS</td>\n",
       "      <td>KENNEDY</td>\n",
       "      <td>33</td>\n",
       "    </tr>\n",
       "    <tr>\n",
       "      <th>4</th>\n",
       "      <td>0.387</td>\n",
       "      <td>2012-01-07 16:00:00</td>\n",
       "      <td>52.917681</td>\n",
       "      <td>CARVAJAL</td>\n",
       "      <td>KENNEDY</td>\n",
       "      <td>27</td>\n",
       "    </tr>\n",
       "  </tbody>\n",
       "</table>\n",
       "</div>"
      ],
      "text/plain": [
       "     AOD                 Date       Dist   EstCerc   EstMed  PM25\n",
       "0  0.343  2012-01-01 14:30:00   4.482620  CARVAJAL  KENNEDY    21\n",
       "1  0.419  2012-01-02 15:40:00   0.812663   KENNEDY  KENNEDY    26\n",
       "2  0.171  2012-01-03 14:20:00  59.662712   USAQUEN  KENNEDY    27\n",
       "3  0.550  2012-01-06 14:50:00  26.466803    FERIAS  KENNEDY    33\n",
       "4  0.387  2012-01-07 16:00:00  52.917681  CARVAJAL  KENNEDY    27"
      ]
     },
     "execution_count": 6,
     "metadata": {},
     "output_type": "execute_result"
    }
   ],
   "source": [
    "df.head()"
   ]
  },
  {
   "cell_type": "code",
   "execution_count": 7,
   "metadata": {},
   "outputs": [
    {
     "name": "stdout",
     "output_type": "stream",
     "text": [
      "Distancia minima es 1.46645108602\n"
     ]
    }
   ],
   "source": [
    "distances=[]\n",
    "for i in range(len(df5)):\n",
    "    for j in range(len(df5)):\n",
    "        distances.append(111.25*np.sqrt((df5.LATITUD.iloc[i]-df5.LATITUD.iloc[j])**2+(df5.LONGITUD.iloc[i]-df5.LONGITUD.iloc[j])**2))\n",
    "\n",
    "dista=np.unique(np.asarray(distances))[1]/2.\n",
    "print \"Distancia minima es\", dista\n",
    "# opcion, quitar la division por dos para tener cobertura de 3 km\n",
    "# no es recomendable porque se benefician unicamente las estaciones mas alejadas"
   ]
  },
  {
   "cell_type": "code",
   "execution_count": 10,
   "metadata": {},
   "outputs": [
    {
     "data": {
      "text/plain": [
       "<matplotlib.text.Text at 0x10a0d6190>"
      ]
     },
     "execution_count": 10,
     "metadata": {},
     "output_type": "execute_result"
    },
    {
     "data": {
      "image/png": "[encoded data removed]",
      "text/plain": [
       "<matplotlib.figure.Figure at 0x10a09d0d0>"
      ]
     },
     "metadata": {},
     "output_type": "display_data"
    }
   ],
   "source": [
    "#dista=5\n",
    "plt.scatter(df1[df1.Dist<dista].AOD,df1[df1.Dist<dista].PM25)\n",
    "plt.xlabel(\"AOD\")\n",
    "plt.ylabel(\"PM25\")"
   ]
  },
  {
   "cell_type": "code",
   "execution_count": 11,
   "metadata": {},
   "outputs": [
    {
     "data": {
      "text/html": [
       "<div>\n",
       "<table border=\"1\" class=\"dataframe\">\n",
       "  <thead>\n",
       "    <tr style=\"text-align: right;\">\n",
       "      <th></th>\n",
       "      <th>AOD</th>\n",
       "      <th>Date</th>\n",
       "      <th>Dist</th>\n",
       "      <th>EstCerc</th>\n",
       "      <th>EstMed</th>\n",
       "      <th>PM25</th>\n",
       "    </tr>\n",
       "  </thead>\n",
       "  <tbody>\n",
       "    <tr>\n",
       "      <th>1</th>\n",
       "      <td>0.419</td>\n",
       "      <td>2012-01-02 15:40:00</td>\n",
       "      <td>0.812663</td>\n",
       "      <td>KENNEDY</td>\n",
       "      <td>KENNEDY</td>\n",
       "      <td>26</td>\n",
       "    </tr>\n",
       "    <tr>\n",
       "      <th>33</th>\n",
       "      <td>0.441</td>\n",
       "      <td>2012-02-21 15:00:00</td>\n",
       "      <td>0.176413</td>\n",
       "      <td>KENNEDY</td>\n",
       "      <td>KENNEDY</td>\n",
       "      <td>47</td>\n",
       "    </tr>\n",
       "    <tr>\n",
       "      <th>166</th>\n",
       "      <td>0.455</td>\n",
       "      <td>2012-12-12 15:10:00</td>\n",
       "      <td>0.873114</td>\n",
       "      <td>KENNEDY</td>\n",
       "      <td>KENNEDY</td>\n",
       "      <td>47</td>\n",
       "    </tr>\n",
       "  </tbody>\n",
       "</table>\n",
       "</div>"
      ],
      "text/plain": [
       "       AOD                 Date      Dist  EstCerc   EstMed  PM25\n",
       "1    0.419  2012-01-02 15:40:00  0.812663  KENNEDY  KENNEDY    26\n",
       "33   0.441  2012-02-21 15:00:00  0.176413  KENNEDY  KENNEDY    47\n",
       "166  0.455  2012-12-12 15:10:00  0.873114  KENNEDY  KENNEDY    47"
      ]
     },
     "execution_count": 11,
     "metadata": {},
     "output_type": "execute_result"
    }
   ],
   "source": [
    "df1[df1.Dist<dista]"
   ]
  },
  {
   "cell_type": "code",
   "execution_count": 15,
   "metadata": {
    "collapsed": true
   },
   "outputs": [],
   "source": [
    "import os\n",
    "filelist2=[]\n",
    "pardir=\"DatosTXT_HDF/\"\n",
    "for file in os.listdir(pardir):\n",
    "    if file.endswith(\".txt\"):\n",
    "        filelist2.append(file)"
   ]
  },
  {
   "cell_type": "code",
   "execution_count": 16,
   "metadata": {},
   "outputs": [
    {
     "data": {
      "text/plain": [
       "<matplotlib.collections.PathCollection at 0x10a1aacd0>"
      ]
     },
     "execution_count": 16,
     "metadata": {},
     "output_type": "execute_result"
    },
    {
     "data": {
      "image/png": "[encoded data removed]",
      "text/plain": [
       "<matplotlib.figure.Figure at 0x109f5ff10>"
      ]
     },
     "metadata": {},
     "output_type": "display_data"
    }
   ],
   "source": [
    "df6=pd.read_csv(pardir+filelist2[88])\n",
    "filtera1=df6.Latitude>df5.LATITUD.min()\n",
    "filtera2=df6.Latitude<df5.LATITUD.max()\n",
    "filtera=filtera1&filtera2\n",
    "filtero1=df6.Longitude>df5.LONGITUD.min()\n",
    "filtero2=df6.Longitude<df5.LONGITUD.max()\n",
    "filtero=filtero1&filtero2\n",
    "filter=filtero&filtera\n",
    "plt.scatter(df6.Latitude[filter],df6.Longitude[filter])\n",
    "plt.scatter(df5.LATITUD,df5.LONGITUD,c='r')"
   ]
  },
  {
   "cell_type": "code",
   "execution_count": 17,
   "metadata": {},
   "outputs": [
    {
     "data": {
      "text/html": [
       "<div>\n",
       "<table border=\"1\" class=\"dataframe\">\n",
       "  <thead>\n",
       "    <tr style=\"text-align: right;\">\n",
       "      <th></th>\n",
       "      <th>Year</th>\n",
       "      <th>Month</th>\n",
       "      <th>Day</th>\n",
       "      <th>Hour</th>\n",
       "      <th>Minute</th>\n",
       "      <th>Second</th>\n",
       "      <th>Latitude</th>\n",
       "      <th>Longitude</th>\n",
       "      <th>Optical_Depth_Land_And_Ocean</th>\n",
       "      <th>Image_Optical_Depth_Land_And_Ocean</th>\n",
       "      <th>Land_sea_Flag</th>\n",
       "      <th>Land_Ocean_Quality_Flag</th>\n",
       "    </tr>\n",
       "  </thead>\n",
       "  <tbody>\n",
       "    <tr>\n",
       "      <th>131126</th>\n",
       "      <td>2012</td>\n",
       "      <td>3</td>\n",
       "      <td>22</td>\n",
       "      <td>15</td>\n",
       "      <td>42</td>\n",
       "      <td>16</td>\n",
       "      <td>4.704397</td>\n",
       "      <td>-74.127838</td>\n",
       "      <td>-9999</td>\n",
       "      <td>-9999</td>\n",
       "      <td>1</td>\n",
       "      <td>-9999</td>\n",
       "    </tr>\n",
       "    <tr>\n",
       "      <th>131127</th>\n",
       "      <td>2012</td>\n",
       "      <td>3</td>\n",
       "      <td>22</td>\n",
       "      <td>15</td>\n",
       "      <td>42</td>\n",
       "      <td>16</td>\n",
       "      <td>4.699141</td>\n",
       "      <td>-74.092712</td>\n",
       "      <td>-9999</td>\n",
       "      <td>-9999</td>\n",
       "      <td>2</td>\n",
       "      <td>-9999</td>\n",
       "    </tr>\n",
       "    <tr>\n",
       "      <th>131128</th>\n",
       "      <td>2012</td>\n",
       "      <td>3</td>\n",
       "      <td>22</td>\n",
       "      <td>15</td>\n",
       "      <td>42</td>\n",
       "      <td>16</td>\n",
       "      <td>4.693854</td>\n",
       "      <td>-74.057381</td>\n",
       "      <td>-9999</td>\n",
       "      <td>-9999</td>\n",
       "      <td>1</td>\n",
       "      <td>-9999</td>\n",
       "    </tr>\n",
       "    <tr>\n",
       "      <th>131577</th>\n",
       "      <td>2012</td>\n",
       "      <td>3</td>\n",
       "      <td>22</td>\n",
       "      <td>15</td>\n",
       "      <td>42</td>\n",
       "      <td>16</td>\n",
       "      <td>4.674004</td>\n",
       "      <td>-74.132355</td>\n",
       "      <td>-9999</td>\n",
       "      <td>-9999</td>\n",
       "      <td>1</td>\n",
       "      <td>-9999</td>\n",
       "    </tr>\n",
       "    <tr>\n",
       "      <th>131578</th>\n",
       "      <td>2012</td>\n",
       "      <td>3</td>\n",
       "      <td>22</td>\n",
       "      <td>15</td>\n",
       "      <td>42</td>\n",
       "      <td>16</td>\n",
       "      <td>4.668675</td>\n",
       "      <td>-74.097260</td>\n",
       "      <td>-9999</td>\n",
       "      <td>-9999</td>\n",
       "      <td>1</td>\n",
       "      <td>-9999</td>\n",
       "    </tr>\n",
       "    <tr>\n",
       "      <th>131579</th>\n",
       "      <td>2012</td>\n",
       "      <td>3</td>\n",
       "      <td>22</td>\n",
       "      <td>15</td>\n",
       "      <td>42</td>\n",
       "      <td>16</td>\n",
       "      <td>4.663318</td>\n",
       "      <td>-74.061989</td>\n",
       "      <td>-9999</td>\n",
       "      <td>-9999</td>\n",
       "      <td>1</td>\n",
       "      <td>-9999</td>\n",
       "    </tr>\n",
       "    <tr>\n",
       "      <th>132028</th>\n",
       "      <td>2012</td>\n",
       "      <td>3</td>\n",
       "      <td>22</td>\n",
       "      <td>15</td>\n",
       "      <td>42</td>\n",
       "      <td>16</td>\n",
       "      <td>4.643613</td>\n",
       "      <td>-74.136894</td>\n",
       "      <td>-9999</td>\n",
       "      <td>-9999</td>\n",
       "      <td>1</td>\n",
       "      <td>-9999</td>\n",
       "    </tr>\n",
       "    <tr>\n",
       "      <th>132029</th>\n",
       "      <td>2012</td>\n",
       "      <td>3</td>\n",
       "      <td>22</td>\n",
       "      <td>15</td>\n",
       "      <td>42</td>\n",
       "      <td>16</td>\n",
       "      <td>4.638206</td>\n",
       "      <td>-74.101784</td>\n",
       "      <td>-9999</td>\n",
       "      <td>-9999</td>\n",
       "      <td>1</td>\n",
       "      <td>-9999</td>\n",
       "    </tr>\n",
       "    <tr>\n",
       "      <th>132030</th>\n",
       "      <td>2012</td>\n",
       "      <td>3</td>\n",
       "      <td>22</td>\n",
       "      <td>15</td>\n",
       "      <td>42</td>\n",
       "      <td>16</td>\n",
       "      <td>4.632801</td>\n",
       "      <td>-74.066711</td>\n",
       "      <td>-9999</td>\n",
       "      <td>-9999</td>\n",
       "      <td>1</td>\n",
       "      <td>-9999</td>\n",
       "    </tr>\n",
       "    <tr>\n",
       "      <th>132031</th>\n",
       "      <td>2012</td>\n",
       "      <td>3</td>\n",
       "      <td>22</td>\n",
       "      <td>15</td>\n",
       "      <td>42</td>\n",
       "      <td>16</td>\n",
       "      <td>4.627827</td>\n",
       "      <td>-74.034401</td>\n",
       "      <td>-9999</td>\n",
       "      <td>-9999</td>\n",
       "      <td>1</td>\n",
       "      <td>-9999</td>\n",
       "    </tr>\n",
       "    <tr>\n",
       "      <th>132479</th>\n",
       "      <td>2012</td>\n",
       "      <td>3</td>\n",
       "      <td>22</td>\n",
       "      <td>15</td>\n",
       "      <td>42</td>\n",
       "      <td>17</td>\n",
       "      <td>4.625470</td>\n",
       "      <td>-74.145996</td>\n",
       "      <td>-9999</td>\n",
       "      <td>-9999</td>\n",
       "      <td>1</td>\n",
       "      <td>-9999</td>\n",
       "    </tr>\n",
       "    <tr>\n",
       "      <th>132480</th>\n",
       "      <td>2012</td>\n",
       "      <td>3</td>\n",
       "      <td>22</td>\n",
       "      <td>15</td>\n",
       "      <td>42</td>\n",
       "      <td>17</td>\n",
       "      <td>4.620242</td>\n",
       "      <td>-74.110863</td>\n",
       "      <td>-9999</td>\n",
       "      <td>-9999</td>\n",
       "      <td>1</td>\n",
       "      <td>-9999</td>\n",
       "    </tr>\n",
       "    <tr>\n",
       "      <th>132481</th>\n",
       "      <td>2012</td>\n",
       "      <td>3</td>\n",
       "      <td>22</td>\n",
       "      <td>15</td>\n",
       "      <td>42</td>\n",
       "      <td>17</td>\n",
       "      <td>4.615005</td>\n",
       "      <td>-74.075699</td>\n",
       "      <td>-9999</td>\n",
       "      <td>-9999</td>\n",
       "      <td>1</td>\n",
       "      <td>-9999</td>\n",
       "    </tr>\n",
       "    <tr>\n",
       "      <th>132482</th>\n",
       "      <td>2012</td>\n",
       "      <td>3</td>\n",
       "      <td>22</td>\n",
       "      <td>15</td>\n",
       "      <td>42</td>\n",
       "      <td>17</td>\n",
       "      <td>4.610092</td>\n",
       "      <td>-74.042961</td>\n",
       "      <td>-9999</td>\n",
       "      <td>-9999</td>\n",
       "      <td>1</td>\n",
       "      <td>-9999</td>\n",
       "    </tr>\n",
       "    <tr>\n",
       "      <th>132930</th>\n",
       "      <td>2012</td>\n",
       "      <td>3</td>\n",
       "      <td>22</td>\n",
       "      <td>15</td>\n",
       "      <td>42</td>\n",
       "      <td>17</td>\n",
       "      <td>4.595079</td>\n",
       "      <td>-74.150528</td>\n",
       "      <td>-9999</td>\n",
       "      <td>-9999</td>\n",
       "      <td>1</td>\n",
       "      <td>-9999</td>\n",
       "    </tr>\n",
       "    <tr>\n",
       "      <th>132931</th>\n",
       "      <td>2012</td>\n",
       "      <td>3</td>\n",
       "      <td>22</td>\n",
       "      <td>15</td>\n",
       "      <td>42</td>\n",
       "      <td>17</td>\n",
       "      <td>4.589778</td>\n",
       "      <td>-74.115425</td>\n",
       "      <td>-9999</td>\n",
       "      <td>-9999</td>\n",
       "      <td>1</td>\n",
       "      <td>-9999</td>\n",
       "    </tr>\n",
       "    <tr>\n",
       "      <th>132932</th>\n",
       "      <td>2012</td>\n",
       "      <td>3</td>\n",
       "      <td>22</td>\n",
       "      <td>15</td>\n",
       "      <td>42</td>\n",
       "      <td>17</td>\n",
       "      <td>4.584498</td>\n",
       "      <td>-74.080490</td>\n",
       "      <td>-9999</td>\n",
       "      <td>-9999</td>\n",
       "      <td>1</td>\n",
       "      <td>-9999</td>\n",
       "    </tr>\n",
       "    <tr>\n",
       "      <th>132933</th>\n",
       "      <td>2012</td>\n",
       "      <td>3</td>\n",
       "      <td>22</td>\n",
       "      <td>15</td>\n",
       "      <td>42</td>\n",
       "      <td>17</td>\n",
       "      <td>4.579623</td>\n",
       "      <td>-74.048386</td>\n",
       "      <td>-9999</td>\n",
       "      <td>-9999</td>\n",
       "      <td>1</td>\n",
       "      <td>-9999</td>\n",
       "    </tr>\n",
       "  </tbody>\n",
       "</table>\n",
       "</div>"
      ],
      "text/plain": [
       "        Year  Month  Day  Hour  Minute  Second  Latitude  Longitude  \\\n",
       "131126  2012      3   22    15      42      16  4.704397 -74.127838   \n",
       "131127  2012      3   22    15      42      16  4.699141 -74.092712   \n",
       "131128  2012      3   22    15      42      16  4.693854 -74.057381   \n",
       "131577  2012      3   22    15      42      16  4.674004 -74.132355   \n",
       "131578  2012      3   22    15      42      16  4.668675 -74.097260   \n",
       "131579  2012      3   22    15      42      16  4.663318 -74.061989   \n",
       "132028  2012      3   22    15      42      16  4.643613 -74.136894   \n",
       "132029  2012      3   22    15      42      16  4.638206 -74.101784   \n",
       "132030  2012      3   22    15      42      16  4.632801 -74.066711   \n",
       "132031  2012      3   22    15      42      16  4.627827 -74.034401   \n",
       "132479  2012      3   22    15      42      17  4.625470 -74.145996   \n",
       "132480  2012      3   22    15      42      17  4.620242 -74.110863   \n",
       "132481  2012      3   22    15      42      17  4.615005 -74.075699   \n",
       "132482  2012      3   22    15      42      17  4.610092 -74.042961   \n",
       "132930  2012      3   22    15      42      17  4.595079 -74.150528   \n",
       "132931  2012      3   22    15      42      17  4.589778 -74.115425   \n",
       "132932  2012      3   22    15      42      17  4.584498 -74.080490   \n",
       "132933  2012      3   22    15      42      17  4.579623 -74.048386   \n",
       "\n",
       "        Optical_Depth_Land_And_Ocean  Image_Optical_Depth_Land_And_Ocean  \\\n",
       "131126                         -9999                               -9999   \n",
       "131127                         -9999                               -9999   \n",
       "131128                         -9999                               -9999   \n",
       "131577                         -9999                               -9999   \n",
       "131578                         -9999                               -9999   \n",
       "131579                         -9999                               -9999   \n",
       "132028                         -9999                               -9999   \n",
       "132029                         -9999                               -9999   \n",
       "132030                         -9999                               -9999   \n",
       "132031                         -9999                               -9999   \n",
       "132479                         -9999                               -9999   \n",
       "132480                         -9999                               -9999   \n",
       "132481                         -9999                               -9999   \n",
       "132482                         -9999                               -9999   \n",
       "132930                         -9999                               -9999   \n",
       "132931                         -9999                               -9999   \n",
       "132932                         -9999                               -9999   \n",
       "132933                         -9999                               -9999   \n",
       "\n",
       "        Land_sea_Flag  Land_Ocean_Quality_Flag  \n",
       "131126              1                    -9999  \n",
       "131127              2                    -9999  \n",
       "131128              1                    -9999  \n",
       "131577              1                    -9999  \n",
       "131578              1                    -9999  \n",
       "131579              1                    -9999  \n",
       "132028              1                    -9999  \n",
       "132029              1                    -9999  \n",
       "132030              1                    -9999  \n",
       "132031              1                    -9999  \n",
       "132479              1                    -9999  \n",
       "132480              1                    -9999  \n",
       "132481              1                    -9999  \n",
       "132482              1                    -9999  \n",
       "132930              1                    -9999  \n",
       "132931              1                    -9999  \n",
       "132932              1                    -9999  \n",
       "132933              1                    -9999  "
      ]
     },
     "execution_count": 17,
     "metadata": {},
     "output_type": "execute_result"
    }
   ],
   "source": [
    "df6[filter]"
   ]
  },
  {
   "cell_type": "code",
   "execution_count": 18,
   "metadata": {},
   "outputs": [
    {
     "data": {
      "text/plain": [
       "8"
      ]
     },
     "execution_count": 18,
     "metadata": {},
     "output_type": "execute_result"
    }
   ],
   "source": [
    "len(df5)\n",
    "#numero de estaciones"
   ]
  },
  {
   "cell_type": "code",
   "execution_count": 1,
   "metadata": {
    "collapsed": true
   },
   "outputs": [],
   "source": [
    "import os\n",
    "filelist=[]\n",
    "pardir=\"DatosTXT_HDF/\"\n",
    "for file in os.listdir(pardir):\n",
    "    if file.endswith(\".csv\"):\n",
    "        filelist.append(file)"
   ]
  },
  {
   "cell_type": "code",
   "execution_count": 14,
   "metadata": {
    "collapsed": true
   },
   "outputs": [],
   "source": [
    "df4=pd.read_csv(pardir+filelist[81])"
   ]
  },
  {
   "cell_type": "code",
   "execution_count": 15,
   "metadata": {},
   "outputs": [
    {
     "data": {
      "text/plain": [
       "<matplotlib.collections.PathCollection at 0x10fe33390>"
      ]
     },
     "execution_count": 15,
     "metadata": {},
     "output_type": "execute_result"
    },
    {
     "data": {
      "image/png": "[encoded data removed]",
      "text/plain": [
       "<matplotlib.figure.Figure at 0x10fe33290>"
      ]
     },
     "metadata": {},
     "output_type": "display_data"
    }
   ],
   "source": [
    "plt.scatter(df4.Latitude,df4.Longitude)\n",
    "plt.scatter(df5.LATITUD,df5.LONGITUD,c='r')"
   ]
  },
  {
   "cell_type": "code",
   "execution_count": 19,
   "metadata": {},
   "outputs": [
    {
     "data": {
      "text/plain": [
       "<matplotlib.collections.PathCollection at 0x10ffc6e50>"
      ]
     },
     "execution_count": 19,
     "metadata": {},
     "output_type": "execute_result"
    },
    {
     "data": {
      "image/png": "[encoded data removed]",
      "text/plain": [
       "<matplotlib.figure.Figure at 0x1112e8690>"
      ]
     },
     "metadata": {},
     "output_type": "display_data"
    }
   ],
   "source": [
    "for i in range(len(filelist)):\n",
    "    df4=pd.read_csv(pardir+filelist[i])\n",
    "    plt.scatter(df4.Latitude,df4.Longitude)\n",
    "plt.scatter(df5.LATITUD,df5.LONGITUD,c='k',s=20)"
   ]
  },
  {
   "cell_type": "code",
   "execution_count": 20,
   "metadata": {},
   "outputs": [
    {
     "data": {
      "text/plain": [
       "186"
      ]
     },
     "execution_count": 20,
     "metadata": {},
     "output_type": "execute_result"
    }
   ],
   "source": [
    "len(filelist)"
   ]
  },
  {
   "cell_type": "code",
   "execution_count": null,
   "metadata": {
    "collapsed": true
   },
   "outputs": [],
   "source": []
  },
  {
   "cell_type": "markdown",
   "metadata": {},
   "source": [
    "# Hotel Jupiter, Addis Ababa\n",
    "\n",
    "\n",
    "## Updates from OAD\n",
    "\n",
    "- 106 proposals, 61 recommended, 20 funded\n",
    "- Largest number of proposals A&ME, followd by Asia and LatAm\n",
    "- 6% of budget funded 2013-2017\n",
    "- LatAm: 23% (23 out of 99) success rate (most are 21%)\n",
    "- 106k euro funded in 2017\n",
    "- TFs are balanced in funding but in proposals TF1 is 50%\n",
    "- 100+ projects funded\n",
    "- Issue: Project monitoring during implementation phase\n",
    "- Day to day operations @ OAD are sustainable\n",
    "- Report (soon): low-cost impact measurement for Cape Town pilot project\n",
    "- Next F2F meeting @ IAU-GA 2018 - Vienna (August)\n",
    "\n",
    "## Updates from OAO\n",
    "\n",
    "- \"To support using astronomy as a tool for development, the OAO provides access to information, resources...\"\n",
    "- Late summer: APRIM (Asia Pacific) 1 h for A4D discussion - needs feedback from regions\n",
    "- Successful stories for IAU 100th anniversary - OAD spotlight\n",
    "- NOC (outreach contacts) seeks to reach countries outside of ROADs\n",
    "- CAP - Grants are limited - find funds for regional nodes to attend\n",
    "- **Action**: find NOC in regions and communicate with OAO to sync\n",
    "- **Action**: Send Ram names of TF members.\n",
    "\n",
    "## ROADs presence at IAU meetings\n",
    "\n",
    "- Try to arrange F2F meetings so they take place at RIMs\n",
    "\n",
    "## Overlapping countries in ROADs\n",
    "\n",
    "- PLOAD: Mozambique and East Timor are in other ROADs\n",
    "- Protocol for ROADs interaction\n",
    "\n",
    "## Communications\n",
    "\n",
    "- OAD has communications framework for project communications (social media sharing through OAO and OAD)\n",
    "- ROADs should have minimum common framework as well (social media presence)\n",
    "- Common information hub for key information\n",
    "- Astronomy Translation Network (NAOJ, OAO, OAD)\n",
    "- Suggestion: use Slack for quick communications in order to not flood emails\n",
    "\n",
    "## Countries outside ROADs\n",
    "\n",
    "- North America - Europe - Oceania\n",
    "- ROADs are the global coordinators for the world, not OAD (global management team)\n",
    "- Business plan: Consolidate instead of forming new offices - open discussion\n",
    "\n",
    "## Updates from IAU\n",
    "\n",
    "- Junior member (max. duration of 6 years)\n",
    "- All members can vote in scientific matters\n",
    "- Executive commitee can decide on whether a member changes category (up- or downgrade)\n",
    "- 100 IAU \n",
    "    - Sze Leung, Bob Williams, ...\n",
    "    - Book, video, brochure, exhibition\n",
    "    - Opening in 2019 in Brussels\n",
    "- Strategic plan\n",
    "    - Avoid shift to ODA\n",
    "    - New instruments meeting @ Leiden - discussion of SP\n",
    "    - Spring 2018 draft of SP to be sent to National Members\n",
    "- Women in astronomy\n",
    "    - ICSU grant (300k euro/3 yr) collecting statistics\n",
    "- Connection to UNOOSA (UN Office of Outer Space Affairs)\n",
    "    - NEO monitoring\n",
    "    - Dark & quiet skies proposal (conference - technical measures to mitigate light pollution)\n",
    "    - Endorsement of UN in order to monitor implementation\n",
    "    - Get endorsement from UN for IAU naming issues\n",
    "- UNESCO\n",
    "    - Get astronomical monuments as World Heritage sites (clash with countries' proposals)\n",
    "    - Propose rules for similar figure (UNESCO/IAU proclamation of a site)\n",
    "    \n",
    "## IAU strategic plan\n",
    "\n",
    "- Lack of effective communication of the importance of Astronomy beyond entertainment value\n",
    "- NASA vs. IAU in terms of reputation\n",
    "- IAU can help give OAD a good standing with development-related funding agencies\n",
    "- **Action**: Socialize the document with regions, consolidate input and get back to OAD before Mid-June (23rd)\n",
    "- Ewine suggested creating an OAD fundraising brochure by the end of June\n",
    "- **Action**: Wishlist for 1k to 1m ideas\n",
    "\n",
    "## Funding strategies\n",
    "\n",
    "- Involvement of many ROADs for open calls (Horizon 2020, Silk Road)\n",
    "- IAU is hiring someone for OAD fundraising\n",
    "- Create an OAD commission for funding from all coordinators - liason with IAU (purely stratgic)\n",
    "    - Prospery, Sona, Rosa, Vanessa, Kevin, someone from East Asia\n",
    "    - Until IAU hire, communication will remain open\n",
    "\n",
    "## IAU General Assembly\n",
    "\n",
    "- 5 1/2 h allocated time for OAD session\n",
    "- Give priority to ROADs panel, Synergies, Fundraising, \n",
    "- Branding for OAD @ GA\n",
    "- Reaching out to Astronomy and Inclusion sessions and groups\n",
    "- Prepare content (well written bits) for IAU newspaper\n",
    "\n",
    "## Review of ROADs\n",
    "\n",
    "- Reviews will take place before end of terms. IAU will assume that agreements continue until review (even after term ends)\n",
    "- Reviews will set up new agreements\n",
    "- Review from other ROADs - peer review can be helpful, but is not independent\n",
    "- **Action**: Send feedback about review document - terms of agreement? Less than four years?\n",
    "- Set up timeline with Kevin\n",
    "\n",
    "## Combined business plan\n",
    "\n",
    "- Period for CBP structure review - once per F2F meeting\n",
    "- Standardize how information is presented - achievements, indicators at F2F meetings\n",
    "- **Action**: Review ROAD plan for next F2F meeting by August (two months)\n",
    "\n",
    "## Call for proposals\n",
    "\n",
    "- Goals: Enhance impact\n",
    "    - Built-in evaluation\n",
    "    - Sustainability\n",
    "    - Ease of reporting\n",
    "- S1: Open call (short proposals)\n",
    "- S2: 40+9 proposals\n",
    "- S3: Final selection\n",
    "- Endorsement letters can be written for S1 proposals, although only one proposal may be nominated.\n",
    "- S2 process helps close the gap between OAD TFs and ROADs\n",
    "\n",
    "### My thoughts on the CfP\n",
    "\n",
    "- More time for S1 - for socializing in ROADs\n",
    "- OAD call: only 1 suggestion per Regional Office? Better to have 1 per TF\n",
    "- S1 is supposed to encourage projects to seek aproval for region, but it might have opposite effect due to low acceptance fraction\n",
    "- With Vanessa's presentation about CfP we might be able to whip up an information session before the deadline\n",
    "\n",
    "## Projects\n",
    "\n",
    "- EU Space Awareness\n",
    "    - EU Horizon 2020 project \n",
    "    - OAD as a dissemination agent\n",
    "    - Resource creation\n",
    "    - Directly impact schools\n",
    "    - Climate change toolkits\n",
    "    - Europe - Africa   \n",
    "    - MOOCs - available\n",
    "- IAU100\n",
    "    - National competitions to name exoplanets (NOCs and ROADs)\n",
    "- NARIT/UNESCO - Astronomy for STEM\n",
    "- UNESCO Heritage meeting in Middle East Region - Armenia\n",
    "- OAD endorsement for projects, facilitators - contact with ROADs\n",
    "- OAD competence badges for teachers\n",
    "- Asteroid Day\n",
    "    - Catch micrometeorites with dried rainwater and magnet (WHAT?)"
   ]
  },
  {
   "cell_type": "markdown",
   "metadata": {
    "collapsed": true
   },
   "source": []
  },
  {
   "cell_type": "code",
   "execution_count": null,
   "metadata": {
    "collapsed": true
   },
   "outputs": [],
   "source": []
  },
  {
   "cell_type": "code",
   "execution_count": null,
   "metadata": {
    "collapsed": true
   },
   "outputs": [],
   "source": []
  },
  {
   "cell_type": "code",
   "execution_count": null,
   "metadata": {
    "collapsed": true
   },
   "outputs": [],
   "source": []
  },
  {
   "cell_type": "code",
   "execution_count": null,
   "metadata": {
    "collapsed": true
   },
   "outputs": [],
   "source": []
  },
  {
   "cell_type": "code",
   "execution_count": null,
   "metadata": {
    "collapsed": true
   },
   "outputs": [],
   "source": []
  },
  {
   "cell_type": "code",
   "execution_count": null,
   "metadata": {
    "collapsed": true
   },
   "outputs": [],
   "source": []
  },
  {
   "cell_type": "code",
   "execution_count": null,
   "metadata": {
    "collapsed": true
   },
   "outputs": [],
   "source": []
  },
  {
   "cell_type": "code",
   "execution_count": null,
   "metadata": {
    "collapsed": true
   },
   "outputs": [],
   "source": []
  },
  {
   "cell_type": "code",
   "execution_count": null,
   "metadata": {
    "collapsed": true
   },
   "outputs": [],
   "source": []
  },
  {
   "cell_type": "code",
   "execution_count": null,
   "metadata": {
    "collapsed": true
   },
   "outputs": [],
   "source": []
  },
  {
   "cell_type": "code",
   "execution_count": null,
   "metadata": {
    "collapsed": true
   },
   "outputs": [],
   "source": []
  },
  {
   "cell_type": "code",
   "execution_count": null,
   "metadata": {
    "collapsed": true
   },
   "outputs": [],
   "source": []
  },
  {
   "cell_type": "code",
   "execution_count": null,
   "metadata": {
    "collapsed": true
   },
   "outputs": [],
   "source": []
  },
  {
   "cell_type": "markdown",
   "metadata": {},
   "source": [
    "# "
   ]
  }
 ],
 "metadata": {
  "kernelspec": {
   "display_name": "Python 2",
   "language": "python",
   "name": "python2"
  },
  "language_info": {
   "codemirror_mode": {
    "name": "ipython",
    "version": 2
   },
   "file_extension": ".py",
   "mimetype": "text/x-python",
   "name": "python",
   "nbconvert_exporter": "python",
   "pygments_lexer": "ipython2",
   "version": "2.7.12"
  }
 },
 "nbformat": 4,
 "nbformat_minor": 1
}
