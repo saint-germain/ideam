{
 "cells": [
  {
   "cell_type": "code",
   "execution_count": 2,
   "metadata": {
    "collapsed": false
   },
   "outputs": [],
   "source": [
    "import pandas as pd\n",
    "import numpy as np\n",
    "import matplotlib.pyplot as plt\n",
    "%matplotlib inline"
   ]
  },
  {
   "cell_type": "code",
   "execution_count": 3,
   "metadata": {
    "collapsed": false
   },
   "outputs": [],
   "source": [
    "df=pd.read_csv(\"KENNEDY_data_2012.csv\",index_col=0)"
   ]
  },
  {
   "cell_type": "code",
   "execution_count": 4,
   "metadata": {
    "collapsed": true
   },
   "outputs": [],
   "source": [
    "df5=pd.read_csv(\"estaciones.csv\")"
   ]
  },
  {
   "cell_type": "code",
   "execution_count": 5,
   "metadata": {
    "collapsed": false
   },
   "outputs": [],
   "source": [
    "df1=df[df.EstCerc==df.EstMed]"
   ]
  },
  {
   "cell_type": "code",
   "execution_count": 6,
   "metadata": {
    "collapsed": false,
    "scrolled": true
   },
   "outputs": [
    {
     "data": {
      "text/html": [
       "<div>\n",
       "<table border=\"1\" class=\"dataframe\">\n",
       "  <thead>\n",
       "    <tr style=\"text-align: right;\">\n",
       "      <th></th>\n",
       "      <th>AOD</th>\n",
       "      <th>Date</th>\n",
       "      <th>Dist</th>\n",
       "      <th>EstCerc</th>\n",
       "      <th>EstMed</th>\n",
       "      <th>PM25</th>\n",
       "    </tr>\n",
       "  </thead>\n",
       "  <tbody>\n",
       "    <tr>\n",
       "      <th>0</th>\n",
       "      <td>0.343</td>\n",
       "      <td>2012-01-01 14:30:00</td>\n",
       "      <td>4.482620</td>\n",
       "      <td>CARVAJAL</td>\n",
       "      <td>KENNEDY</td>\n",
       "      <td>21</td>\n",
       "    </tr>\n",
       "    <tr>\n",
       "      <th>1</th>\n",
       "      <td>0.419</td>\n",
       "      <td>2012-01-02 15:40:00</td>\n",
       "      <td>0.812663</td>\n",
       "      <td>KENNEDY</td>\n",
       "      <td>KENNEDY</td>\n",
       "      <td>26</td>\n",
       "    </tr>\n",
       "    <tr>\n",
       "      <th>2</th>\n",
       "      <td>0.171</td>\n",
       "      <td>2012-01-03 14:20:00</td>\n",
       "      <td>59.662712</td>\n",
       "      <td>USAQUEN</td>\n",
       "      <td>KENNEDY</td>\n",
       "      <td>27</td>\n",
       "    </tr>\n",
       "    <tr>\n",
       "      <th>3</th>\n",
       "      <td>0.550</td>\n",
       "      <td>2012-01-06 14:50:00</td>\n",
       "      <td>26.466803</td>\n",
       "      <td>FERIAS</td>\n",
       "      <td>KENNEDY</td>\n",
       "      <td>33</td>\n",
       "    </tr>\n",
       "    <tr>\n",
       "      <th>4</th>\n",
       "      <td>0.387</td>\n",
       "      <td>2012-01-07 16:00:00</td>\n",
       "      <td>52.917681</td>\n",
       "      <td>CARVAJAL</td>\n",
       "      <td>KENNEDY</td>\n",
       "      <td>27</td>\n",
       "    </tr>\n",
       "  </tbody>\n",
       "</table>\n",
       "</div>"
      ],
      "text/plain": [
       "     AOD                 Date       Dist   EstCerc   EstMed  PM25\n",
       "0  0.343  2012-01-01 14:30:00   4.482620  CARVAJAL  KENNEDY    21\n",
       "1  0.419  2012-01-02 15:40:00   0.812663   KENNEDY  KENNEDY    26\n",
       "2  0.171  2012-01-03 14:20:00  59.662712   USAQUEN  KENNEDY    27\n",
       "3  0.550  2012-01-06 14:50:00  26.466803    FERIAS  KENNEDY    33\n",
       "4  0.387  2012-01-07 16:00:00  52.917681  CARVAJAL  KENNEDY    27"
      ]
     },
     "execution_count": 6,
     "metadata": {},
     "output_type": "execute_result"
    }
   ],
   "source": [
    "df.head()"
   ]
  },
  {
   "cell_type": "code",
   "execution_count": 7,
   "metadata": {
    "collapsed": false
   },
   "outputs": [
    {
     "name": "stdout",
     "output_type": "stream",
     "text": [
      "Distancia minima es 1.46645108602\n"
     ]
    }
   ],
   "source": [
    "distances=[]\n",
    "for i in range(len(df5)):\n",
    "    for j in range(len(df5)):\n",
    "        distances.append(111.25*np.sqrt((df5.LATITUD.iloc[i]-df5.LATITUD.iloc[j])**2+(df5.LONGITUD.iloc[i]-df5.LONGITUD.iloc[j])**2))\n",
    "\n",
    "dista=np.unique(np.asarray(distances))[1]/2.\n",
    "print \"Distancia minima es\", dista\n",
    "# opcion, quitar la division por dos para tener cobertura de 3 km\n",
    "# no es recomendable porque se benefician unicamente las estaciones mas alejadas"
   ]
  },
  {
   "cell_type": "code",
   "execution_count": 10,
   "metadata": {
    "collapsed": false
   },
   "outputs": [
    {
     "data": {
      "text/plain": [
       "<matplotlib.text.Text at 0x10a0d6190>"
      ]
     },
     "execution_count": 10,
     "metadata": {},
     "output_type": "execute_result"
    },
    {
     "data": {
      "image/png": "[encoded data removed]",
      "text/plain": [
       "<matplotlib.figure.Figure at 0x10a09d0d0>"
      ]
     },
     "metadata": {},
     "output_type": "display_data"
    }
   ],
   "source": [
    "#dista=5\n",
    "plt.scatter(df1[df1.Dist<dista].AOD,df1[df1.Dist<dista].PM25)\n",
    "plt.xlabel(\"AOD\")\n",
    "plt.ylabel(\"PM25\")"
   ]
  },
  {
   "cell_type": "code",
   "execution_count": 11,
   "metadata": {
    "collapsed": false
   },
   "outputs": [
    {
     "data": {
      "text/html": [
       "<div>\n",
       "<table border=\"1\" class=\"dataframe\">\n",
       "  <thead>\n",
       "    <tr style=\"text-align: right;\">\n",
       "      <th></th>\n",
       "      <th>AOD</th>\n",
       "      <th>Date</th>\n",
       "      <th>Dist</th>\n",
       "      <th>EstCerc</th>\n",
       "      <th>EstMed</th>\n",
       "      <th>PM25</th>\n",
       "    </tr>\n",
       "  </thead>\n",
       "  <tbody>\n",
       "    <tr>\n",
       "      <th>1</th>\n",
       "      <td>0.419</td>\n",
       "      <td>2012-01-02 15:40:00</td>\n",
       "      <td>0.812663</td>\n",
       "      <td>KENNEDY</td>\n",
       "      <td>KENNEDY</td>\n",
       "      <td>26</td>\n",
       "    </tr>\n",
       "    <tr>\n",
       "      <th>33</th>\n",
       "      <td>0.441</td>\n",
       "      <td>2012-02-21 15:00:00</td>\n",
       "      <td>0.176413</td>\n",
       "      <td>KENNEDY</td>\n",
       "      <td>KENNEDY</td>\n",
       "      <td>47</td>\n",
       "    </tr>\n",
       "    <tr>\n",
       "      <th>166</th>\n",
       "      <td>0.455</td>\n",
       "      <td>2012-12-12 15:10:00</td>\n",
       "      <td>0.873114</td>\n",
       "      <td>KENNEDY</td>\n",
       "      <td>KENNEDY</td>\n",
       "      <td>47</td>\n",
       "    </tr>\n",
       "  </tbody>\n",
       "</table>\n",
       "</div>"
      ],
      "text/plain": [
       "       AOD                 Date      Dist  EstCerc   EstMed  PM25\n",
       "1    0.419  2012-01-02 15:40:00  0.812663  KENNEDY  KENNEDY    26\n",
       "33   0.441  2012-02-21 15:00:00  0.176413  KENNEDY  KENNEDY    47\n",
       "166  0.455  2012-12-12 15:10:00  0.873114  KENNEDY  KENNEDY    47"
      ]
     },
     "execution_count": 11,
     "metadata": {},
     "output_type": "execute_result"
    }
   ],
   "source": [
    "df1[df1.Dist<dista]"
   ]
  },
  {
   "cell_type": "code",
   "execution_count": 15,
   "metadata": {
    "collapsed": false
   },
   "outputs": [],
   "source": [
    "import os\n",
    "filelist2=[]\n",
    "pardir=\"DatosTXT_HDF/\"\n",
    "for file in os.listdir(pardir):\n",
    "    if file.endswith(\".txt\"):\n",
    "        filelist2.append(file)"
   ]
  },
  {
   "cell_type": "code",
   "execution_count": 16,
   "metadata": {
    "collapsed": false
   },
   "outputs": [
    {
     "data": {
      "text/plain": [
       "<matplotlib.collections.PathCollection at 0x10a1aacd0>"
      ]
     },
     "execution_count": 16,
     "metadata": {},
     "output_type": "execute_result"
    },
    {
     "data": {
      "image/png": "[encoded data removed]",
      "text/plain": [
       "<matplotlib.figure.Figure at 0x109f5ff10>"
      ]
     },
     "metadata": {},
     "output_type": "display_data"
    }
   ],
   "source": [
    "df6=pd.read_csv(pardir+filelist2[88])\n",
    "filtera1=df6.Latitude>df5.LATITUD.min()\n",
    "filtera2=df6.Latitude<df5.LATITUD.max()\n",
    "filtera=filtera1&filtera2\n",
    "filtero1=df6.Longitude>df5.LONGITUD.min()\n",
    "filtero2=df6.Longitude<df5.LONGITUD.max()\n",
    "filtero=filtero1&filtero2\n",
    "filter=filtero&filtera\n",
    "plt.scatter(df6.Latitude[filter],df6.Longitude[filter])\n",
    "plt.scatter(df5.LATITUD,df5.LONGITUD,c='r')"
   ]
  },
  {
   "cell_type": "code",
   "execution_count": 17,
   "metadata": {
    "collapsed": false
   },
   "outputs": [
    {
     "data": {
      "text/html": [
       "<div>\n",
       "<table border=\"1\" class=\"dataframe\">\n",
       "  <thead>\n",
       "    <tr style=\"text-align: right;\">\n",
       "      <th></th>\n",
       "      <th>Year</th>\n",
       "      <th>Month</th>\n",
       "      <th>Day</th>\n",
       "      <th>Hour</th>\n",
       "      <th>Minute</th>\n",
       "      <th>Second</th>\n",
       "      <th>Latitude</th>\n",
       "      <th>Longitude</th>\n",
       "      <th>Optical_Depth_Land_And_Ocean</th>\n",
       "      <th>Image_Optical_Depth_Land_And_Ocean</th>\n",
       "      <th>Land_sea_Flag</th>\n",
       "      <th>Land_Ocean_Quality_Flag</th>\n",
       "    </tr>\n",
       "  </thead>\n",
       "  <tbody>\n",
       "    <tr>\n",
       "      <th>131126</th>\n",
       "      <td>2012</td>\n",
       "      <td>3</td>\n",
       "      <td>22</td>\n",
       "      <td>15</td>\n",
       "      <td>42</td>\n",
       "      <td>16</td>\n",
       "      <td>4.704397</td>\n",
       "      <td>-74.127838</td>\n",
       "      <td>-9999</td>\n",
       "      <td>-9999</td>\n",
       "      <td>1</td>\n",
       "      <td>-9999</td>\n",
       "    </tr>\n",
       "    <tr>\n",
       "      <th>131127</th>\n",
       "      <td>2012</td>\n",
       "      <td>3</td>\n",
       "      <td>22</td>\n",
       "      <td>15</td>\n",
       "      <td>42</td>\n",
       "      <td>16</td>\n",
       "      <td>4.699141</td>\n",
       "      <td>-74.092712</td>\n",
       "      <td>-9999</td>\n",
       "      <td>-9999</td>\n",
       "      <td>2</td>\n",
       "      <td>-9999</td>\n",
       "    </tr>\n",
       "    <tr>\n",
       "      <th>131128</th>\n",
       "      <td>2012</td>\n",
       "      <td>3</td>\n",
       "      <td>22</td>\n",
       "      <td>15</td>\n",
       "      <td>42</td>\n",
       "      <td>16</td>\n",
       "      <td>4.693854</td>\n",
       "      <td>-74.057381</td>\n",
       "      <td>-9999</td>\n",
       "      <td>-9999</td>\n",
       "      <td>1</td>\n",
       "      <td>-9999</td>\n",
       "    </tr>\n",
       "    <tr>\n",
       "      <th>131577</th>\n",
       "      <td>2012</td>\n",
       "      <td>3</td>\n",
       "      <td>22</td>\n",
       "      <td>15</td>\n",
       "      <td>42</td>\n",
       "      <td>16</td>\n",
       "      <td>4.674004</td>\n",
       "      <td>-74.132355</td>\n",
       "      <td>-9999</td>\n",
       "      <td>-9999</td>\n",
       "      <td>1</td>\n",
       "      <td>-9999</td>\n",
       "    </tr>\n",
       "    <tr>\n",
       "      <th>131578</th>\n",
       "      <td>2012</td>\n",
       "      <td>3</td>\n",
       "      <td>22</td>\n",
       "      <td>15</td>\n",
       "      <td>42</td>\n",
       "      <td>16</td>\n",
       "      <td>4.668675</td>\n",
       "      <td>-74.097260</td>\n",
       "      <td>-9999</td>\n",
       "      <td>-9999</td>\n",
       "      <td>1</td>\n",
       "      <td>-9999</td>\n",
       "    </tr>\n",
       "    <tr>\n",
       "      <th>131579</th>\n",
       "      <td>2012</td>\n",
       "      <td>3</td>\n",
       "      <td>22</td>\n",
       "      <td>15</td>\n",
       "      <td>42</td>\n",
       "      <td>16</td>\n",
       "      <td>4.663318</td>\n",
       "      <td>-74.061989</td>\n",
       "      <td>-9999</td>\n",
       "      <td>-9999</td>\n",
       "      <td>1</td>\n",
       "      <td>-9999</td>\n",
       "    </tr>\n",
       "    <tr>\n",
       "      <th>132028</th>\n",
       "      <td>2012</td>\n",
       "      <td>3</td>\n",
       "      <td>22</td>\n",
       "      <td>15</td>\n",
       "      <td>42</td>\n",
       "      <td>16</td>\n",
       "      <td>4.643613</td>\n",
       "      <td>-74.136894</td>\n",
       "      <td>-9999</td>\n",
       "      <td>-9999</td>\n",
       "      <td>1</td>\n",
       "      <td>-9999</td>\n",
       "    </tr>\n",
       "    <tr>\n",
       "      <th>132029</th>\n",
       "      <td>2012</td>\n",
       "      <td>3</td>\n",
       "      <td>22</td>\n",
       "      <td>15</td>\n",
       "      <td>42</td>\n",
       "      <td>16</td>\n",
       "      <td>4.638206</td>\n",
       "      <td>-74.101784</td>\n",
       "      <td>-9999</td>\n",
       "      <td>-9999</td>\n",
       "      <td>1</td>\n",
       "      <td>-9999</td>\n",
       "    </tr>\n",
       "    <tr>\n",
       "      <th>132030</th>\n",
       "      <td>2012</td>\n",
       "      <td>3</td>\n",
       "      <td>22</td>\n",
       "      <td>15</td>\n",
       "      <td>42</td>\n",
       "      <td>16</td>\n",
       "      <td>4.632801</td>\n",
       "      <td>-74.066711</td>\n",
       "      <td>-9999</td>\n",
       "      <td>-9999</td>\n",
       "      <td>1</td>\n",
       "      <td>-9999</td>\n",
       "    </tr>\n",
       "    <tr>\n",
       "      <th>132031</th>\n",
       "      <td>2012</td>\n",
       "      <td>3</td>\n",
       "      <td>22</td>\n",
       "      <td>15</td>\n",
       "      <td>42</td>\n",
       "      <td>16</td>\n",
       "      <td>4.627827</td>\n",
       "      <td>-74.034401</td>\n",
       "      <td>-9999</td>\n",
       "      <td>-9999</td>\n",
       "      <td>1</td>\n",
       "      <td>-9999</td>\n",
       "    </tr>\n",
       "    <tr>\n",
       "      <th>132479</th>\n",
       "      <td>2012</td>\n",
       "      <td>3</td>\n",
       "      <td>22</td>\n",
       "      <td>15</td>\n",
       "      <td>42</td>\n",
       "      <td>17</td>\n",
       "      <td>4.625470</td>\n",
       "      <td>-74.145996</td>\n",
       "      <td>-9999</td>\n",
       "      <td>-9999</td>\n",
       "      <td>1</td>\n",
       "      <td>-9999</td>\n",
       "    </tr>\n",
       "    <tr>\n",
       "      <th>132480</th>\n",
       "      <td>2012</td>\n",
       "      <td>3</td>\n",
       "      <td>22</td>\n",
       "      <td>15</td>\n",
       "      <td>42</td>\n",
       "      <td>17</td>\n",
       "      <td>4.620242</td>\n",
       "      <td>-74.110863</td>\n",
       "      <td>-9999</td>\n",
       "      <td>-9999</td>\n",
       "      <td>1</td>\n",
       "      <td>-9999</td>\n",
       "    </tr>\n",
       "    <tr>\n",
       "      <th>132481</th>\n",
       "      <td>2012</td>\n",
       "      <td>3</td>\n",
       "      <td>22</td>\n",
       "      <td>15</td>\n",
       "      <td>42</td>\n",
       "      <td>17</td>\n",
       "      <td>4.615005</td>\n",
       "      <td>-74.075699</td>\n",
       "      <td>-9999</td>\n",
       "      <td>-9999</td>\n",
       "      <td>1</td>\n",
       "      <td>-9999</td>\n",
       "    </tr>\n",
       "    <tr>\n",
       "      <th>132482</th>\n",
       "      <td>2012</td>\n",
       "      <td>3</td>\n",
       "      <td>22</td>\n",
       "      <td>15</td>\n",
       "      <td>42</td>\n",
       "      <td>17</td>\n",
       "      <td>4.610092</td>\n",
       "      <td>-74.042961</td>\n",
       "      <td>-9999</td>\n",
       "      <td>-9999</td>\n",
       "      <td>1</td>\n",
       "      <td>-9999</td>\n",
       "    </tr>\n",
       "    <tr>\n",
       "      <th>132930</th>\n",
       "      <td>2012</td>\n",
       "      <td>3</td>\n",
       "      <td>22</td>\n",
       "      <td>15</td>\n",
       "      <td>42</td>\n",
       "      <td>17</td>\n",
       "      <td>4.595079</td>\n",
       "      <td>-74.150528</td>\n",
       "      <td>-9999</td>\n",
       "      <td>-9999</td>\n",
       "      <td>1</td>\n",
       "      <td>-9999</td>\n",
       "    </tr>\n",
       "    <tr>\n",
       "      <th>132931</th>\n",
       "      <td>2012</td>\n",
       "      <td>3</td>\n",
       "      <td>22</td>\n",
       "      <td>15</td>\n",
       "      <td>42</td>\n",
       "      <td>17</td>\n",
       "      <td>4.589778</td>\n",
       "      <td>-74.115425</td>\n",
       "      <td>-9999</td>\n",
       "      <td>-9999</td>\n",
       "      <td>1</td>\n",
       "      <td>-9999</td>\n",
       "    </tr>\n",
       "    <tr>\n",
       "      <th>132932</th>\n",
       "      <td>2012</td>\n",
       "      <td>3</td>\n",
       "      <td>22</td>\n",
       "      <td>15</td>\n",
       "      <td>42</td>\n",
       "      <td>17</td>\n",
       "      <td>4.584498</td>\n",
       "      <td>-74.080490</td>\n",
       "      <td>-9999</td>\n",
       "      <td>-9999</td>\n",
       "      <td>1</td>\n",
       "      <td>-9999</td>\n",
       "    </tr>\n",
       "    <tr>\n",
       "      <th>132933</th>\n",
       "      <td>2012</td>\n",
       "      <td>3</td>\n",
       "      <td>22</td>\n",
       "      <td>15</td>\n",
       "      <td>42</td>\n",
       "      <td>17</td>\n",
       "      <td>4.579623</td>\n",
       "      <td>-74.048386</td>\n",
       "      <td>-9999</td>\n",
       "      <td>-9999</td>\n",
       "      <td>1</td>\n",
       "      <td>-9999</td>\n",
       "    </tr>\n",
       "  </tbody>\n",
       "</table>\n",
       "</div>"
      ],
      "text/plain": [
       "        Year  Month  Day  Hour  Minute  Second  Latitude  Longitude  \\\n",
       "131126  2012      3   22    15      42      16  4.704397 -74.127838   \n",
       "131127  2012      3   22    15      42      16  4.699141 -74.092712   \n",
       "131128  2012      3   22    15      42      16  4.693854 -74.057381   \n",
       "131577  2012      3   22    15      42      16  4.674004 -74.132355   \n",
       "131578  2012      3   22    15      42      16  4.668675 -74.097260   \n",
       "131579  2012      3   22    15      42      16  4.663318 -74.061989   \n",
       "132028  2012      3   22    15      42      16  4.643613 -74.136894   \n",
       "132029  2012      3   22    15      42      16  4.638206 -74.101784   \n",
       "132030  2012      3   22    15      42      16  4.632801 -74.066711   \n",
       "132031  2012      3   22    15      42      16  4.627827 -74.034401   \n",
       "132479  2012      3   22    15      42      17  4.625470 -74.145996   \n",
       "132480  2012      3   22    15      42      17  4.620242 -74.110863   \n",
       "132481  2012      3   22    15      42      17  4.615005 -74.075699   \n",
       "132482  2012      3   22    15      42      17  4.610092 -74.042961   \n",
       "132930  2012      3   22    15      42      17  4.595079 -74.150528   \n",
       "132931  2012      3   22    15      42      17  4.589778 -74.115425   \n",
       "132932  2012      3   22    15      42      17  4.584498 -74.080490   \n",
       "132933  2012      3   22    15      42      17  4.579623 -74.048386   \n",
       "\n",
       "        Optical_Depth_Land_And_Ocean  Image_Optical_Depth_Land_And_Ocean  \\\n",
       "131126                         -9999                               -9999   \n",
       "131127                         -9999                               -9999   \n",
       "131128                         -9999                               -9999   \n",
       "131577                         -9999                               -9999   \n",
       "131578                         -9999                               -9999   \n",
       "131579                         -9999                               -9999   \n",
       "132028                         -9999                               -9999   \n",
       "132029                         -9999                               -9999   \n",
       "132030                         -9999                               -9999   \n",
       "132031                         -9999                               -9999   \n",
       "132479                         -9999                               -9999   \n",
       "132480                         -9999                               -9999   \n",
       "132481                         -9999                               -9999   \n",
       "132482                         -9999                               -9999   \n",
       "132930                         -9999                               -9999   \n",
       "132931                         -9999                               -9999   \n",
       "132932                         -9999                               -9999   \n",
       "132933                         -9999                               -9999   \n",
       "\n",
       "        Land_sea_Flag  Land_Ocean_Quality_Flag  \n",
       "131126              1                    -9999  \n",
       "131127              2                    -9999  \n",
       "131128              1                    -9999  \n",
       "131577              1                    -9999  \n",
       "131578              1                    -9999  \n",
       "131579              1                    -9999  \n",
       "132028              1                    -9999  \n",
       "132029              1                    -9999  \n",
       "132030              1                    -9999  \n",
       "132031              1                    -9999  \n",
       "132479              1                    -9999  \n",
       "132480              1                    -9999  \n",
       "132481              1                    -9999  \n",
       "132482              1                    -9999  \n",
       "132930              1                    -9999  \n",
       "132931              1                    -9999  \n",
       "132932              1                    -9999  \n",
       "132933              1                    -9999  "
      ]
     },
     "execution_count": 17,
     "metadata": {},
     "output_type": "execute_result"
    }
   ],
   "source": [
    "df6[filter]"
   ]
  },
  {
   "cell_type": "code",
   "execution_count": 18,
   "metadata": {
    "collapsed": false
   },
   "outputs": [
    {
     "data": {
      "text/plain": [
       "8"
      ]
     },
     "execution_count": 18,
     "metadata": {},
     "output_type": "execute_result"
    }
   ],
   "source": [
    "len(df5)\n",
    "#numero de estaciones"
   ]
  },
  {
   "cell_type": "code",
   "execution_count": 20,
   "metadata": {
    "collapsed": false
   },
   "outputs": [],
   "source": [
    "import os\n",
    "filelist=[]\n",
    "pardir=\"DatosTXT_HDF/\"\n",
    "for file in os.listdir(pardir):\n",
    "    if file.endswith(\".csv\"):\n",
    "        filelist.append(file)"
   ]
  },
  {
   "cell_type": "code",
   "execution_count": 21,
   "metadata": {
    "collapsed": false
   },
   "outputs": [],
   "source": [
    "df4=pd.read_csv(pardir+filelist[57])"
   ]
  },
  {
   "cell_type": "code",
   "execution_count": 22,
   "metadata": {
    "collapsed": false
   },
   "outputs": [
    {
     "data": {
      "text/plain": [
       "<matplotlib.collections.PathCollection at 0x10a155ad0>"
      ]
     },
     "execution_count": 22,
     "metadata": {},
     "output_type": "execute_result"
    },
    {
     "data": {
      "image/png": "[encoded data removed]",
      "text/plain": [
       "<matplotlib.figure.Figure at 0x10a0ed050>"
      ]
     },
     "metadata": {},
     "output_type": "display_data"
    }
   ],
   "source": [
    "plt.scatter(df4.Latitude,df4.Longitude)\n",
    "plt.scatter(df5.LATITUD,df5.LONGITUD,c='r')"
   ]
  },
  {
   "cell_type": "code",
   "execution_count": null,
   "metadata": {
    "collapsed": true
   },
   "outputs": [],
   "source": []
  },
  {
   "cell_type": "code",
   "execution_count": null,
   "metadata": {
    "collapsed": true
   },
   "outputs": [],
   "source": []
  },
  {
   "cell_type": "code",
   "execution_count": null,
   "metadata": {
    "collapsed": true
   },
   "outputs": [],
   "source": []
  },
  {
   "cell_type": "code",
   "execution_count": null,
   "metadata": {
    "collapsed": true
   },
   "outputs": [],
   "source": []
  },
  {
   "cell_type": "code",
   "execution_count": null,
   "metadata": {
    "collapsed": true
   },
   "outputs": [],
   "source": []
  },
  {
   "cell_type": "markdown",
   "metadata": {},
   "source": [
    "# "
   ]
  }
 ],
 "metadata": {
  "kernelspec": {
   "display_name": "Python 2",
   "language": "python",
   "name": "python2"
  }
 },
 "nbformat": 4,
 "nbformat_minor": 0
}
