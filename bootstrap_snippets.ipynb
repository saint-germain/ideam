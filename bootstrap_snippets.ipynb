{
 "cells": [
  {
   "cell_type": "code",
   "execution_count": null,
   "metadata": {
    "collapsed": true
   },
   "outputs": [],
   "source": [
    "# sunshine = 2,0\n",
    "c1=0\n",
    "c2=3\n",
    "c3=4\n",
    "LNB1=LONB[:,c1][LONB[:,c1]!=0]\n",
    "LTB1=LATB[:,c1][LATB[:,c1]!=0]\n",
    "CDB1=CODB[:,c1][CODB[:,c1]!=0]\n",
    "ATB1=ALTB[:,c1][ALTB[:,c1]!=0]\n",
    "print [LNB1.size,LTB1.size,CDB1.size,ATB1.size]\n",
    "LNB2=LONB[:,c2][LONB[:,c2]!=0]\n",
    "LTB2=LATB[:,c2][LATB[:,c2]!=0]\n",
    "CDB2=CODB[:,c2][CODB[:,c2]!=0]\n",
    "ATB2=ALTB[:,c2][ALTB[:,c2]!=0]\n",
    "print [LNB2.size,LTB2.size,CDB2.size,ATB2.size]\n",
    "# precip = 0,1\n",
    "c1=0\n",
    "c2=1\n",
    "LNL1=LONL[:,c1][LONL[:,c1]!=0]\n",
    "LTL1=LATL[:,c1][LATL[:,c1]!=0]\n",
    "CDL1=CODL[:,c1][CODL[:,c1]!=0]\n",
    "ATL1=ALTL[:,c1][ALTL[:,c1]!=0]\n",
    "print [LNL1.size,LTL1.size,CDL1.size,ATL1.size]\n",
    "LNL2=LONL[:,c2][LONL[:,c2]!=0]\n",
    "LTL2=LATL[:,c2][LATL[:,c2]!=0]\n",
    "CDL2=CODL[:,c2][CODL[:,c2]!=0]\n",
    "ATL2=ALTL[:,c2][ALTL[:,c2]!=0]\n",
    "print [LNL2.size,LTL2.size,CDL2.size,ATL2.size]\n",
    "# rainy days: 2,0\n",
    "c1=2\n",
    "c2=0\n",
    "LND1=LOND[:,c1][LOND[:,c1]!=0]\n",
    "LTD1=LATD[:,c1][LATD[:,c1]!=0]\n",
    "CDD1=CODD[:,c1][CODD[:,c1]!=0]\n",
    "ATD1=ALTD[:,c1][ALTD[:,c1]!=0]\n",
    "print [LND1.size,LTD1.size,CDD1.size,ATD1.size]\n",
    "LND2=LOND[:,c2][LOND[:,c2]!=0]\n",
    "LTD2=LATD[:,c2][LATD[:,c2]!=0]\n",
    "CDD2=CODD[:,c2][CODD[:,c2]!=0]\n",
    "ATD2=ALTD[:,c2][ALTD[:,c2]!=0]\n",
    "print [LND2.size,LTD2.size,CDD2.size,ATD2.size]\n",
    "# humidity 1,3 (might be the opposite?)\n",
    "c1=1\n",
    "c2=3\n",
    "LNH1=LONH[:,c1][LONH[:,c1]!=0]\n",
    "LTH1=LATH[:,c1][LATH[:,c1]!=0]\n",
    "CDH1=CODH[:,c1][CODH[:,c1]!=0]\n",
    "ATH1=ALTH[:,c1][ALTH[:,c1]!=0]\n",
    "print [LNH1.size,LTH1.size,CDH1.size,ATH1.size]\n",
    "LNH2=LONH[:,c2][LONH[:,c2]!=0]\n",
    "LTH2=LATH[:,c2][LATH[:,c2]!=0]\n",
    "CDH2=CODH[:,c2][CODH[:,c2]!=0]\n",
    "ATH2=ALTH[:,c2][ALTH[:,c2]!=0]\n",
    "print [LNH2.size,LTH2.size,CDH2.size,ATH2.size]"
   ]
  },
  {
   "cell_type": "code",
   "execution_count": null,
   "metadata": {
    "collapsed": true
   },
   "outputs": [],
   "source": [
    "def mcsel(big,small):\n",
    "    MC=np.zeros(big)\n",
    "    for i in range(big):\n",
    "        MC[i]=np.random.random()<small*1./big\n",
    "    return MC.astype(bool)"
   ]
  },
  {
   "cell_type": "code",
   "execution_count": null,
   "metadata": {
    "collapsed": true
   },
   "outputs": [],
   "source": [
    "# stackear D y L y hacer el MC sobre esos\n",
    "MCclp=np.empty((0))\n",
    "MClnp=np.empty((0))\n",
    "MCltp=np.empty((0))\n",
    "MCatp=np.empty((0))\n",
    "iterations=10000\n",
    "for i in range(iterations):\n",
    "    DMC=mcsel(LND1.size,LNB1.size)\n",
    "    HMC=mcsel(LNH1.size,LNB1.size)\n",
    "    LMC=mcsel(LNL1.size,LNB1.size)\n",
    "    LNMC=np.hstack((LNB1,LND1[DMC],LNH1[HMC],LNL1[LMC]))\n",
    "    LTMC=np.hstack((LTB1,LTD1[DMC],LTH1[HMC],LTL1[LMC]))\n",
    "    ATMC=np.hstack((ATB1,ATD1[DMC],ATH1[HMC],ATL1[LMC]))\n",
    "    CDMC=np.hstack((CDB1,CDD1[DMC],CDH1[HMC],CDL1[LMC]))\n",
    "    MCdata=np.vstack((LNMC,LTMC,ATMC)).T\n",
    "    kcomp=2\n",
    "    kik=0\n",
    "    kikp=1\n",
    "    gmm = GMM(kcomp, covariance_type='full', random_state=0)\n",
    "    gmm.fit(MCdata)\n",
    "    cluster_label = gmm.predict(MCdata)\n",
    "    MCcl=np.append(MCcl,CDMC[cluster_label==kik])\n",
    "    MCln=np.append(MCln,LNMC[cluster_label==kik])\n",
    "    MClt=np.append(MClt,LTMC[cluster_label==kik])    \n",
    "    MCat=np.append(MCat,ATMC[cluster_label==kik])\n",
    "    MCclp=np.append(MCclp,CDMC[cluster_label==kikp])\n",
    "    MClnp=np.append(MClnp,LNMC[cluster_label==kikp])\n",
    "    MCltp=np.append(MCltp,LTMC[cluster_label==kikp])    \n",
    "    MCatp=np.append(MCatp,ATMC[cluster_label==kikp])\n",
    "   \n",
    "np.savetxt('mcresults.txt',np.c_[MCcl,MCln,MClt,MCat])\n",
    "np.savetxt('mcresultsp.txt',np.c_[MCclp,MClnp,MCltp,MCatp])"
   ]
  },
  {
   "cell_type": "code",
   "execution_count": null,
   "metadata": {
    "collapsed": true
   },
   "outputs": [],
   "source": [
    "%%bash\n",
    "\n",
    "cat mcresults.txt | sort -n | uniq -c | sort -nr > mcrescount.txt\n",
    "cat mcresultsp.txt | sort -n | uniq -c | sort -nr > mcrescountp.txt"
   ]
  },
  {
   "cell_type": "code",
   "execution_count": null,
   "metadata": {
    "collapsed": true
   },
   "outputs": [],
   "source": [
    "A=np.loadtxt('mcrescount.txt')\n",
    "FILTER=A[:,0]>800\n",
    "plt.scatter(-A[:, 2][FILTER], -A[:, 3][FILTER], c=A[:,0][FILTER])\n",
    "plt.colorbar()\n",
    "plt.xlim(-85,-65)\n",
    "plt.ylim(-5,14)"
   ]
  },
  {
   "cell_type": "code",
   "execution_count": null,
   "metadata": {
    "collapsed": true
   },
   "outputs": [],
   "source": [
    "A=np.loadtxt('mcrescountp.txt')\n",
    "FILTER=A[:,0]>1000\n",
    "plt.scatter(-A[:, 2][FILTER], -A[:, 3][FILTER], c=A[:,0][FILTER])\n",
    "plt.colorbar()\n",
    "plt.xlim(-85,-65)\n",
    "plt.ylim(-5,14)"
   ]
  },
  {
   "cell_type": "code",
   "execution_count": null,
   "metadata": {
    "collapsed": true
   },
   "outputs": [],
   "source": [
    "def genprob(paux3,paux4):\n",
    "    p3=1./4\n",
    "    p4=1./16\n",
    "    p33=p3*paux3\n",
    "    p34=p4*paux4\n",
    "    lott=np.random.random(1)\n",
    "    if(lott<(p33+p34)):\n",
    "        if(lott<p33):\n",
    "            return 3\n",
    "        elif(p33<=lott<p33+p34):\n",
    "            return 4\n",
    "    else:\n",
    "         return 0    "
   ]
  },
  {
   "cell_type": "code",
   "execution_count": null,
   "metadata": {
    "collapsed": true
   },
   "outputs": [],
   "source": [
    "def parseprob(i,j):\n",
    "    if((i==4.)&(j==0.)):\n",
    "        return genprob(0.,1.)\n",
    "    if((i==3.)&(j==0.)):\n",
    "        return genprob(1.,0.)\n",
    "    if((i==3.)&(j==1.)):\n",
    "        return genprob(4./5,1./5)\n",
    "    if((i==2.)&(j==1.)):\n",
    "        return genprob(4./10,0.)\n",
    "    if((i==2.)&(j==2.)):\n",
    "        return genprob(4./11,1./11)\n",
    "    if((i==1.)&(j==2.)):\n",
    "        return genprob(4./14,0.)\n",
    "    if((i==1.)&(j==3.)):\n",
    "        return genprob(4./15,1./15)"
   ]
  }
 ],
 "metadata": {
  "kernelspec": {
   "display_name": "Python 2",
   "language": "python",
   "name": "python2"
  },
  "language_info": {
   "codemirror_mode": {
    "name": "ipython",
    "version": 2
   },
   "file_extension": ".py",
   "mimetype": "text/x-python",
   "name": "python",
   "nbconvert_exporter": "python",
   "pygments_lexer": "ipython2",
   "version": "2.7.6"
  }
 },
 "nbformat": 4,
 "nbformat_minor": 0
}
