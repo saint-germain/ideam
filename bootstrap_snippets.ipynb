{
 "cells": [
  {
   "cell_type": "code",
   "execution_count": null,
   "metadata": {
    "collapsed": true
   },
   "outputs": [],
   "source": [
    "# sunshine = 2,0\n",
    "c1=0\n",
    "c2=3\n",
    "c3=4\n",
    "LNB1=LONB[:,c1][LONB[:,c1]!=0]\n",
    "LTB1=LATB[:,c1][LATB[:,c1]!=0]\n",
    "CDB1=CODB[:,c1][CODB[:,c1]!=0]\n",
    "ATB1=ALTB[:,c1][ALTB[:,c1]!=0]\n",
    "print [LNB1.size,LTB1.size,CDB1.size,ATB1.size]\n",
    "LNB2=LONB[:,c2][LONB[:,c2]!=0]\n",
    "LTB2=LATB[:,c2][LATB[:,c2]!=0]\n",
    "CDB2=CODB[:,c2][CODB[:,c2]!=0]\n",
    "ATB2=ALTB[:,c2][ALTB[:,c2]!=0]\n",
    "print [LNB2.size,LTB2.size,CDB2.size,ATB2.size]\n",
    "# precip = 0,1\n",
    "c1=0\n",
    "c2=1\n",
    "LNL1=LONL[:,c1][LONL[:,c1]!=0]\n",
    "LTL1=LATL[:,c1][LATL[:,c1]!=0]\n",
    "CDL1=CODL[:,c1][CODL[:,c1]!=0]\n",
    "ATL1=ALTL[:,c1][ALTL[:,c1]!=0]\n",
    "print [LNL1.size,LTL1.size,CDL1.size,ATL1.size]\n",
    "LNL2=LONL[:,c2][LONL[:,c2]!=0]\n",
    "LTL2=LATL[:,c2][LATL[:,c2]!=0]\n",
    "CDL2=CODL[:,c2][CODL[:,c2]!=0]\n",
    "ATL2=ALTL[:,c2][ALTL[:,c2]!=0]\n",
    "print [LNL2.size,LTL2.size,CDL2.size,ATL2.size]\n",
    "# rainy days: 2,0\n",
    "c1=2\n",
    "c2=0\n",
    "LND1=LOND[:,c1][LOND[:,c1]!=0]\n",
    "LTD1=LATD[:,c1][LATD[:,c1]!=0]\n",
    "CDD1=CODD[:,c1][CODD[:,c1]!=0]\n",
    "ATD1=ALTD[:,c1][ALTD[:,c1]!=0]\n",
    "print [LND1.size,LTD1.size,CDD1.size,ATD1.size]\n",
    "LND2=LOND[:,c2][LOND[:,c2]!=0]\n",
    "LTD2=LATD[:,c2][LATD[:,c2]!=0]\n",
    "CDD2=CODD[:,c2][CODD[:,c2]!=0]\n",
    "ATD2=ALTD[:,c2][ALTD[:,c2]!=0]\n",
    "print [LND2.size,LTD2.size,CDD2.size,ATD2.size]\n",
    "# humidity 1,3 (might be the opposite?)\n",
    "c1=1\n",
    "c2=3\n",
    "LNH1=LONH[:,c1][LONH[:,c1]!=0]\n",
    "LTH1=LATH[:,c1][LATH[:,c1]!=0]\n",
    "CDH1=CODH[:,c1][CODH[:,c1]!=0]\n",
    "ATH1=ALTH[:,c1][ALTH[:,c1]!=0]\n",
    "print [LNH1.size,LTH1.size,CDH1.size,ATH1.size]\n",
    "LNH2=LONH[:,c2][LONH[:,c2]!=0]\n",
    "LTH2=LATH[:,c2][LATH[:,c2]!=0]\n",
    "CDH2=CODH[:,c2][CODH[:,c2]!=0]\n",
    "ATH2=ALTH[:,c2][ALTH[:,c2]!=0]\n",
    "print [LNH2.size,LTH2.size,CDH2.size,ATH2.size]"
   ]
  },
  {
   "cell_type": "code",
   "execution_count": null,
   "metadata": {
    "collapsed": true
   },
   "outputs": [],
   "source": [
    "def mcsel(big,small):\n",
    "    MC=np.zeros(big)\n",
    "    for i in range(big):\n",
    "        MC[i]=np.random.random()<small*1./big\n",
    "    return MC.astype(bool)"
   ]
  },
  {
   "cell_type": "code",
   "execution_count": null,
   "metadata": {
    "collapsed": true
   },
   "outputs": [],
   "source": [
    "# stackear D y L y hacer el MC sobre esos\n",
    "MCclp=np.empty((0))\n",
    "MClnp=np.empty((0))\n",
    "MCltp=np.empty((0))\n",
    "MCatp=np.empty((0))\n",
    "iterations=10000\n",
    "for i in range(iterations):\n",
    "    DMC=mcsel(LND1.size,LNB1.size)\n",
    "    HMC=mcsel(LNH1.size,LNB1.size)\n",
    "    LMC=mcsel(LNL1.size,LNB1.size)\n",
    "    LNMC=np.hstack((LNB1,LND1[DMC],LNH1[HMC],LNL1[LMC]))\n",
    "    LTMC=np.hstack((LTB1,LTD1[DMC],LTH1[HMC],LTL1[LMC]))\n",
    "    ATMC=np.hstack((ATB1,ATD1[DMC],ATH1[HMC],ATL1[LMC]))\n",
    "    CDMC=np.hstack((CDB1,CDD1[DMC],CDH1[HMC],CDL1[LMC]))\n",
    "    MCdata=np.vstack((LNMC,LTMC,ATMC)).T\n",
    "    kcomp=2\n",
    "    kik=0\n",
    "    kikp=1\n",
    "    gmm = GMM(kcomp, covariance_type='full', random_state=0)\n",
    "    gmm.fit(MCdata)\n",
    "    cluster_label = gmm.predict(MCdata)\n",
    "    MCcl=np.append(MCcl,CDMC[cluster_label==kik])\n",
    "    MCln=np.append(MCln,LNMC[cluster_label==kik])\n",
    "    MClt=np.append(MClt,LTMC[cluster_label==kik])    \n",
    "    MCat=np.append(MCat,ATMC[cluster_label==kik])\n",
    "    MCclp=np.append(MCclp,CDMC[cluster_label==kikp])\n",
    "    MClnp=np.append(MClnp,LNMC[cluster_label==kikp])\n",
    "    MCltp=np.append(MCltp,LTMC[cluster_label==kikp])    \n",
    "    MCatp=np.append(MCatp,ATMC[cluster_label==kikp])\n",
    "   \n",
    "np.savetxt('mcresults.txt',np.c_[MCcl,MCln,MClt,MCat])\n",
    "np.savetxt('mcresultsp.txt',np.c_[MCclp,MClnp,MCltp,MCatp])"
   ]
  },
  {
   "cell_type": "code",
   "execution_count": null,
   "metadata": {
    "collapsed": true
   },
   "outputs": [],
   "source": [
    "%%bash\n",
    "\n",
    "cat mcresults.txt | sort -n | uniq -c | sort -nr > mcrescount.txt\n",
    "cat mcresultsp.txt | sort -n | uniq -c | sort -nr > mcrescountp.txt"
   ]
  },
  {
   "cell_type": "code",
   "execution_count": null,
   "metadata": {
    "collapsed": true
   },
   "outputs": [],
   "source": [
    "A=np.loadtxt('mcrescount.txt')\n",
    "FILTER=A[:,0]>800\n",
    "plt.scatter(-A[:, 2][FILTER], -A[:, 3][FILTER], c=A[:,0][FILTER])\n",
    "plt.colorbar()\n",
    "plt.xlim(-85,-65)\n",
    "plt.ylim(-5,14)"
   ]
  },
  {
   "cell_type": "code",
   "execution_count": null,
   "metadata": {
    "collapsed": true
   },
   "outputs": [],
   "source": [
    "A=np.loadtxt('mcrescountp.txt')\n",
    "FILTER=A[:,0]>1000\n",
    "plt.scatter(-A[:, 2][FILTER], -A[:, 3][FILTER], c=A[:,0][FILTER])\n",
    "plt.colorbar()\n",
    "plt.xlim(-85,-65)\n",
    "plt.ylim(-5,14)"
   ]
  },
  {
   "cell_type": "code",
   "execution_count": null,
   "metadata": {
    "collapsed": true
   },
   "outputs": [],
   "source": [
    "def genprob(paux3,paux4):\n",
    "    p3=1./4\n",
    "    p4=1./16\n",
    "    p33=p3*paux3\n",
    "    p34=p4*paux4\n",
    "    lott=np.random.random(1)\n",
    "    if(lott<(p33+p34)):\n",
    "        if(lott<p33):\n",
    "            return 3\n",
    "        elif(p33<=lott<p33+p34):\n",
    "            return 4\n",
    "    else:\n",
    "         return 0    "
   ]
  },
  {
   "cell_type": "code",
   "execution_count": null,
   "metadata": {
    "collapsed": true
   },
   "outputs": [],
   "source": [
    "def parseprob(i,j):\n",
    "    if((i==4.)&(j==0.)):\n",
    "        return genprob(0.,1.)\n",
    "    if((i==3.)&(j==0.)):\n",
    "        return genprob(1.,0.)\n",
    "    if((i==3.)&(j==1.)):\n",
    "        return genprob(4./5,1./5)\n",
    "    if((i==2.)&(j==1.)):\n",
    "        return genprob(4./10,0.)\n",
    "    if((i==2.)&(j==2.)):\n",
    "        return genprob(4./11,1./11)\n",
    "    if((i==1.)&(j==2.)):\n",
    "        return genprob(4./14,0.)\n",
    "    if((i==1.)&(j==3.)):\n",
    "        return genprob(4./15,1./15)"
   ]
  },
  {
   "cell_type": "code",
   "execution_count": 1,
   "metadata": {
    "collapsed": true
   },
   "outputs": [],
   "source": [
    "from sklearn.decomposition import PCA\n",
    "%matplotlib inline\n",
    "import numpy as np\n",
    "import matplotlib.pyplot as plt\n",
    "import pandas as pd\n",
    "from sklearn.mixture import GMM"
   ]
  },
  {
   "cell_type": "code",
   "execution_count": 65,
   "metadata": {
    "collapsed": false
   },
   "outputs": [],
   "source": [
    "# Contamos cuantas variables fueron medidas por estacion, se almacena en tomados (cuyo indice coincide con el indice de listam)\n",
    "listam=np.loadtxt('listam.txt')\n",
    "df=pd.read_csv('lluvia.csv')\n",
    "tomados=np.zeros((len(listam[:,1]),4))\n",
    "for i in range(len(listam[:,1])):\n",
    "    for k in range(len(df.CODIGO)):\n",
    "        if(listam[i,1]==df.CODIGO[k]):\n",
    "            tomados[i,0]+=1\n",
    "df=pd.read_csv('diaslluvia.csv')\n",
    "for i in range(len(listam[:,1])):\n",
    "    for k in range(len(df.CODIGO)):\n",
    "        if(listam[i,1]==df.CODIGO[k]):\n",
    "            tomados[i,1]+=1  \n",
    "df=pd.read_csv('humedad.csv')\n",
    "for i in range(len(listam[:,1])):\n",
    "    for k in range(len(df.CODIGO)):\n",
    "        if(listam[i,1]==df.CODIGO[k]):\n",
    "            tomados[i,2]+=1\n",
    "df=pd.read_csv('brillo.csv')\n",
    "for i in range(len(listam[:,1])):\n",
    "    for k in range(len(df.CODIGO)):\n",
    "        if(listam[i,1]==df.CODIGO[k]):\n",
    "            tomados[i,3]+=1 "
   ]
  },
  {
   "cell_type": "code",
   "execution_count": 85,
   "metadata": {
    "collapsed": false
   },
   "outputs": [
    {
     "data": {
      "text/plain": [
       "0"
      ]
     },
     "execution_count": 85,
     "metadata": {},
     "output_type": "execute_result"
    }
   ],
   "source": [
    "(tomados==2).sum()"
   ]
  },
  {
   "cell_type": "code",
   "execution_count": 5,
   "metadata": {
    "collapsed": false
   },
   "outputs": [
    {
     "data": {
      "text/plain": [
       "array([[ 1.,  1.,  1.,  1.],\n",
       "       [ 1.,  1.,  1.,  1.],\n",
       "       [ 1.,  1.,  1.,  1.],\n",
       "       ..., \n",
       "       [ 1.,  0.,  1.,  0.],\n",
       "       [ 1.,  0.,  1.,  0.],\n",
       "       [ 1.,  1.,  1.,  1.]])"
      ]
     },
     "execution_count": 5,
     "metadata": {},
     "output_type": "execute_result"
    }
   ],
   "source": [
    "(tomados[:,0]*336./2046)*(tomados[:,1]*336./445)*(tomados[:,2]*336./2002)"
   ]
  },
  {
   "cell_type": "code",
   "execution_count": 66,
   "metadata": {
    "collapsed": false
   },
   "outputs": [],
   "source": [
    "LLUVIA=tomados[:,0]+tomados[:,1]"
   ]
  },
  {
   "cell_type": "code",
   "execution_count": 67,
   "metadata": {
    "collapsed": true
   },
   "outputs": [],
   "source": [
    "HUBR=tomados[:,2]+tomados[:,3]"
   ]
  },
  {
   "cell_type": "code",
   "execution_count": 68,
   "metadata": {
    "collapsed": false
   },
   "outputs": [
    {
     "data": {
      "text/plain": [
       "array([[ 1.,  1.,  1.,  1.],\n",
       "       [ 1.,  1.,  1.,  1.],\n",
       "       [ 1.,  1.,  1.,  1.],\n",
       "       ..., \n",
       "       [ 1.,  1.,  0.,  0.],\n",
       "       [ 1.,  1.,  0.,  0.],\n",
       "       [ 1.,  1.,  1.,  1.]])"
      ]
     },
     "execution_count": 68,
     "metadata": {},
     "output_type": "execute_result"
    }
   ],
   "source": [
    "tomados[LLUVIA==2]"
   ]
  },
  {
   "cell_type": "code",
   "execution_count": 78,
   "metadata": {
    "collapsed": false
   },
   "outputs": [
    {
     "data": {
      "text/plain": [
       "array([[ 1.,  1.,  0.,  1.],\n",
       "       [ 1.,  1.,  0.,  1.]])"
      ]
     },
     "execution_count": 78,
     "metadata": {},
     "output_type": "execute_result"
    }
   ],
   "source": [
    "tomados[(tomados[:,2]==0)*(tomados[:,3]==1)*(LLUVIA==2)]"
   ]
  },
  {
   "cell_type": "code",
   "execution_count": 82,
   "metadata": {
    "collapsed": false
   },
   "outputs": [
    {
     "data": {
      "text/plain": [
       "array([ 1.,  3.])"
      ]
     },
     "execution_count": 82,
     "metadata": {},
     "output_type": "execute_result"
    }
   ],
   "source": [
    "listam[(tomados[:,2]==0)*(tomados[:,3]==1)*(LLUVIA==2),0]"
   ]
  },
  {
   "cell_type": "code",
   "execution_count": 56,
   "metadata": {
    "collapsed": false
   },
   "outputs": [
    {
     "data": {
      "text/plain": [
       "array([[ 1.,  1.,  1.,  0.],\n",
       "       [ 1.,  1.,  1.,  0.],\n",
       "       [ 1.,  1.,  1.,  0.],\n",
       "       [ 1.,  1.,  1.,  0.],\n",
       "       [ 1.,  1.,  1.,  0.],\n",
       "       [ 1.,  0.,  1.,  0.],\n",
       "       [ 1.,  1.,  1.,  1.],\n",
       "       [ 1.,  1.,  1.,  1.],\n",
       "       [ 1.,  0.,  1.,  0.],\n",
       "       [ 1.,  1.,  1.,  0.],\n",
       "       [ 1.,  0.,  1.,  0.],\n",
       "       [ 1.,  1.,  1.,  1.],\n",
       "       [ 1.,  1.,  1.,  0.],\n",
       "       [ 1.,  1.,  1.,  0.],\n",
       "       [ 1.,  0.,  1.,  0.],\n",
       "       [ 1.,  0.,  1.,  0.],\n",
       "       [ 1.,  0.,  0.,  0.],\n",
       "       [ 1.,  0.,  1.,  0.],\n",
       "       [ 1.,  0.,  1.,  0.],\n",
       "       [ 1.,  0.,  1.,  0.],\n",
       "       [ 1.,  0.,  1.,  0.],\n",
       "       [ 1.,  0.,  1.,  0.],\n",
       "       [ 1.,  0.,  1.,  0.],\n",
       "       [ 1.,  0.,  1.,  0.],\n",
       "       [ 1.,  0.,  0.,  0.],\n",
       "       [ 1.,  0.,  1.,  0.],\n",
       "       [ 1.,  0.,  1.,  0.],\n",
       "       [ 1.,  0.,  1.,  0.],\n",
       "       [ 1.,  0.,  1.,  0.],\n",
       "       [ 1.,  0.,  1.,  0.],\n",
       "       [ 1.,  1.,  1.,  1.],\n",
       "       [ 1.,  0.,  1.,  0.],\n",
       "       [ 1.,  0.,  1.,  0.]])"
      ]
     },
     "execution_count": 56,
     "metadata": {},
     "output_type": "execute_result"
    }
   ],
   "source": [
    "tomados[(LLUVIA[LLUVIA==2]+BRHUM[LLUVIA==2])==3]"
   ]
  },
  {
   "cell_type": "code",
   "execution_count": 47,
   "metadata": {
    "collapsed": false
   },
   "outputs": [
    {
     "data": {
      "text/plain": [
       "92"
      ]
     },
     "execution_count": 47,
     "metadata": {},
     "output_type": "execute_result"
    }
   ],
   "source": [
    "((tomados[:,2]==1)*(tomados[:,1]==1)*(tomados[:,3]==1)).sum()"
   ]
  },
  {
   "cell_type": "code",
   "execution_count": 16,
   "metadata": {
    "collapsed": false
   },
   "outputs": [
    {
     "data": {
      "text/plain": [
       "array([ 0.16422287,  0.75505618,  0.16783217,  1.        ])"
      ]
     },
     "execution_count": 16,
     "metadata": {},
     "output_type": "execute_result"
    }
   ],
   "source": [
    "ptom=336./np.array([2046.,445.,2002.,336.])\n",
    "ptom"
   ]
  },
  {
   "cell_type": "code",
   "execution_count": 19,
   "metadata": {
    "collapsed": false
   },
   "outputs": [],
   "source": [
    "pmed=np.zeros(len(listam[:,1]))\n",
    "for i in range(len(listam[:,1])):\n",
    "    pmed[i]=1.\n",
    "    for k in range(4):\n",
    "        if(tomados[i,k]==1.):\n",
    "            pmed[i]=pmed[i]*ptom[k]"
   ]
  },
  {
   "cell_type": "code",
   "execution_count": 25,
   "metadata": {
    "collapsed": false
   },
   "outputs": [
    {
     "data": {
      "text/plain": [
       "103"
      ]
     },
     "execution_count": 25,
     "metadata": {},
     "output_type": "execute_result"
    }
   ],
   "source": [
    "np.argmax(pmed)"
   ]
  },
  {
   "cell_type": "code",
   "execution_count": 27,
   "metadata": {
    "collapsed": false
   },
   "outputs": [
    {
     "data": {
      "text/plain": [
       "array([ 1.,  0.,  0.,  0.])"
      ]
     },
     "execution_count": 27,
     "metadata": {},
     "output_type": "execute_result"
    }
   ],
   "source": [
    "tomados[np.argmax(pmed)]"
   ]
  },
  {
   "cell_type": "code",
   "execution_count": 31,
   "metadata": {
    "collapsed": false
   },
   "outputs": [
    {
     "data": {
      "text/plain": [
       "array([ 1.        ,  1.32440476,  5.95833333,  7.89124504])"
      ]
     },
     "execution_count": 31,
     "metadata": {},
     "output_type": "execute_result"
    }
   ],
   "source": [
    "np.unique(pmed/pmed.min())"
   ]
  },
  {
   "cell_type": "code",
   "execution_count": 33,
   "metadata": {
    "collapsed": false
   },
   "outputs": [
    {
     "data": {
      "text/plain": [
       "(array([ 123.,  377.,    0.,    0.,    0.,    0.,    0.,    0.,    0.,\n",
       "           0.,    0.,    0.,    0.,    0.,    0.,    0.,    0.,    0.,\n",
       "           0.,    0.,    0.,    2.,    0.,    0.,    0.,    0.,    0.,\n",
       "           0.,    0.,    8.]),\n",
       " array([ 1.        ,  1.22970817,  1.45941634,  1.6891245 ,  1.91883267,\n",
       "         2.14854084,  2.37824901,  2.60795718,  2.83766534,  3.06737351,\n",
       "         3.29708168,  3.52678985,  3.75649802,  3.98620618,  4.21591435,\n",
       "         4.44562252,  4.67533069,  4.90503886,  5.13474702,  5.36445519,\n",
       "         5.59416336,  5.82387153,  6.0535797 ,  6.28328786,  6.51299603,\n",
       "         6.7427042 ,  6.97241237,  7.20212054,  7.4318287 ,  7.66153687,\n",
       "         7.89124504]),\n",
       " <a list of 30 Patch objects>)"
      ]
     },
     "execution_count": 33,
     "metadata": {},
     "output_type": "execute_result"
    },
    {
     "data": {
      "image/png": "[encoded data removed]",
      "text/plain": [
       "<matplotlib.figure.Figure at 0x7f28438ab350>"
      ]
     },
     "metadata": {},
     "output_type": "display_data"
    }
   ],
   "source": [
    "plt.hist(pmed/pmed.min(), bins=30)"
   ]
  },
  {
   "cell_type": "code",
   "execution_count": 29,
   "metadata": {
    "collapsed": false
   },
   "outputs": [
    {
     "data": {
      "text/plain": [
       "array([ 1.        ,  1.        ,  1.        ,  1.32440476,  1.        ,\n",
       "        1.        ,  1.        ,  1.        ,  1.32440476,  1.32440476,\n",
       "        1.32440476,  1.32440476,  1.32440476,  1.32440476,  1.32440476,\n",
       "        1.32440476,  1.32440476,  1.32440476,  1.32440476,  1.32440476,\n",
       "        1.32440476,  1.32440476,  1.32440476,  1.32440476,  1.32440476,\n",
       "        1.32440476,  1.32440476,  1.        ,  1.32440476,  1.32440476,\n",
       "        1.32440476,  1.32440476,  1.32440476,  1.32440476,  1.32440476,\n",
       "        1.32440476,  1.32440476,  1.        ,  1.32440476,  1.32440476,\n",
       "        1.        ,  1.32440476,  1.32440476,  1.32440476,  1.        ,\n",
       "        1.32440476,  1.        ,  1.32440476,  1.32440476,  1.32440476,\n",
       "        1.32440476,  1.32440476,  1.32440476,  1.32440476,  1.        ,\n",
       "        1.32440476,  1.        ,  1.32440476,  1.32440476,  1.32440476,\n",
       "        1.32440476,  1.32440476,  1.32440476,  1.32440476,  1.32440476,\n",
       "        1.32440476,  1.32440476,  1.32440476,  1.32440476,  1.32440476,\n",
       "        1.32440476,  1.32440476,  1.32440476,  1.32440476,  1.32440476,\n",
       "        1.32440476,  1.32440476,  1.32440476,  1.32440476,  1.32440476,\n",
       "        1.32440476,  1.32440476,  1.32440476,  1.32440476,  1.32440476,\n",
       "        1.32440476,  1.32440476,  1.32440476,  1.32440476,  1.32440476,\n",
       "        1.32440476,  1.32440476,  1.32440476,  1.32440476,  1.32440476,\n",
       "        1.32440476,  1.32440476,  1.32440476,  1.32440476,  1.32440476,\n",
       "        1.32440476,  1.32440476,  1.32440476,  7.89124504,  1.32440476,\n",
       "        1.32440476,  1.32440476,  1.32440476,  1.32440476,  1.32440476,\n",
       "        1.32440476,  1.32440476,  1.32440476,  1.32440476,  1.32440476,\n",
       "        1.32440476,  1.32440476,  1.32440476,  1.32440476,  1.32440476,\n",
       "        1.32440476,  1.32440476,  1.32440476,  1.32440476,  1.32440476,\n",
       "        1.32440476,  1.32440476,  1.32440476,  1.        ,  1.32440476,\n",
       "        1.32440476,  1.        ,  1.32440476,  1.        ,  1.        ,\n",
       "        1.32440476,  1.        ,  1.        ,  1.        ,  1.32440476,\n",
       "        1.        ,  1.        ,  1.        ,  1.        ,  1.        ,\n",
       "        1.        ,  1.32440476,  1.32440476,  1.32440476,  1.32440476,\n",
       "        1.        ,  1.32440476,  1.32440476,  1.        ,  1.32440476,\n",
       "        1.32440476,  1.        ,  1.32440476,  1.        ,  1.        ,\n",
       "        1.        ,  1.        ,  1.32440476,  1.32440476,  1.32440476,\n",
       "        1.32440476,  1.32440476,  7.89124504,  1.32440476,  1.32440476,\n",
       "        1.32440476,  1.32440476,  1.32440476,  1.32440476,  1.32440476,\n",
       "        1.32440476,  1.        ,  1.        ,  1.32440476,  1.32440476,\n",
       "        7.89124504,  1.32440476,  1.32440476,  1.32440476,  1.32440476,\n",
       "        1.32440476,  7.89124504,  1.        ,  1.        ,  1.32440476,\n",
       "        7.89124504,  1.        ,  1.32440476,  1.32440476,  1.32440476,\n",
       "        1.32440476,  1.32440476,  1.32440476,  1.        ,  1.32440476,\n",
       "        1.32440476,  1.32440476,  1.        ,  1.        ,  1.        ,\n",
       "        1.32440476,  1.        ,  1.        ,  1.        ,  1.        ,\n",
       "        1.32440476,  1.32440476,  1.        ,  1.32440476,  1.32440476,\n",
       "        1.32440476,  1.32440476,  1.        ,  1.        ,  1.        ,\n",
       "        1.32440476,  1.32440476,  1.32440476,  1.32440476,  1.32440476,\n",
       "        1.32440476,  1.32440476,  1.32440476,  1.32440476,  1.32440476,\n",
       "        1.32440476,  1.32440476,  1.32440476,  1.32440476,  1.32440476,\n",
       "        1.32440476,  1.32440476,  1.32440476,  1.32440476,  1.32440476,\n",
       "        1.32440476,  1.32440476,  1.32440476,  1.32440476,  1.32440476,\n",
       "        1.32440476,  1.        ,  1.        ,  1.32440476,  1.        ,\n",
       "        1.32440476,  1.32440476,  1.        ,  1.        ,  1.        ,\n",
       "        1.32440476,  1.32440476,  1.        ,  1.32440476,  1.32440476,\n",
       "        1.32440476,  1.32440476,  1.32440476,  1.32440476,  1.32440476,\n",
       "        1.32440476,  1.32440476,  1.32440476,  1.32440476,  1.32440476,\n",
       "        1.32440476,  1.32440476,  1.32440476,  1.32440476,  1.32440476,\n",
       "        1.32440476,  1.32440476,  1.32440476,  1.32440476,  1.32440476,\n",
       "        1.32440476,  1.32440476,  1.32440476,  1.32440476,  1.32440476,\n",
       "        1.32440476,  1.32440476,  1.32440476,  1.32440476,  1.32440476,\n",
       "        1.32440476,  1.32440476,  1.32440476,  1.32440476,  1.32440476,\n",
       "        1.32440476,  1.32440476,  1.32440476,  1.32440476,  1.32440476,\n",
       "        1.32440476,  1.32440476,  1.32440476,  1.32440476,  1.32440476,\n",
       "        1.32440476,  1.        ,  1.        ,  1.        ,  1.        ,\n",
       "        1.        ,  1.        ,  1.32440476,  1.        ,  1.        ,\n",
       "        7.89124504,  1.        ,  1.        ,  1.        ,  1.32440476,\n",
       "        1.        ,  1.        ,  1.        ,  1.        ,  1.        ,\n",
       "        1.32440476,  1.32440476,  1.        ,  1.32440476,  1.32440476,\n",
       "        1.32440476,  1.32440476,  1.32440476,  1.32440476,  1.32440476,\n",
       "        1.        ,  1.        ,  1.        ,  1.32440476,  1.32440476,\n",
       "        1.32440476,  1.32440476,  1.32440476,  1.32440476,  1.32440476,\n",
       "        1.32440476,  1.32440476,  1.32440476,  1.32440476,  1.32440476,\n",
       "        1.32440476,  1.32440476,  1.32440476,  7.89124504,  1.32440476,\n",
       "        1.        ,  1.32440476,  1.32440476,  1.32440476,  1.32440476,\n",
       "        1.32440476,  1.32440476,  1.32440476,  1.        ,  1.32440476,\n",
       "        1.32440476,  1.32440476,  1.32440476,  1.32440476,  1.32440476,\n",
       "        5.95833333,  1.32440476,  1.        ,  1.        ,  1.        ,\n",
       "        1.        ,  1.32440476,  1.        ,  1.        ,  1.        ,\n",
       "        1.        ,  1.32440476,  1.        ,  1.32440476,  1.32440476,\n",
       "        1.32440476,  1.        ,  1.32440476,  1.        ,  1.32440476,\n",
       "        1.32440476,  1.32440476,  1.32440476,  1.32440476,  1.        ,\n",
       "        1.        ,  1.        ,  1.32440476,  1.        ,  1.32440476,\n",
       "        1.32440476,  1.32440476,  1.32440476,  1.32440476,  1.32440476,\n",
       "        7.89124504,  1.32440476,  1.32440476,  1.32440476,  1.32440476,\n",
       "        1.        ,  1.        ,  1.        ,  1.32440476,  1.32440476,\n",
       "        1.32440476,  1.32440476,  1.32440476,  1.32440476,  1.        ,\n",
       "        1.32440476,  1.32440476,  1.32440476,  1.32440476,  1.32440476,\n",
       "        1.32440476,  1.32440476,  1.32440476,  1.32440476,  1.32440476,\n",
       "        1.32440476,  1.32440476,  1.32440476,  1.32440476,  1.32440476,\n",
       "        1.        ,  1.        ,  1.        ,  1.32440476,  1.        ,\n",
       "        1.32440476,  1.32440476,  1.        ,  1.32440476,  1.32440476,\n",
       "        1.32440476,  1.32440476,  1.32440476,  1.32440476,  1.        ,\n",
       "        1.        ,  1.        ,  1.32440476,  1.32440476,  1.        ,\n",
       "        1.        ,  1.32440476,  1.32440476,  1.32440476,  1.32440476,\n",
       "        1.32440476,  1.32440476,  1.32440476,  1.        ,  1.32440476,\n",
       "        1.32440476,  1.32440476,  1.32440476,  1.        ,  1.        ,\n",
       "        1.        ,  1.32440476,  1.32440476,  1.32440476,  1.32440476,\n",
       "        1.32440476,  1.32440476,  1.32440476,  1.32440476,  1.32440476,\n",
       "        1.32440476,  1.32440476,  1.        ,  1.        ,  1.        ,\n",
       "        1.        ,  1.32440476,  1.32440476,  1.32440476,  1.32440476,\n",
       "        1.32440476,  1.32440476,  1.32440476,  1.32440476,  1.32440476,\n",
       "        1.32440476,  1.32440476,  1.32440476,  1.        ,  1.        ,\n",
       "        1.        ,  5.95833333,  1.        ,  1.        ,  1.32440476,\n",
       "        1.32440476,  1.32440476,  1.32440476,  1.32440476,  1.        ])"
      ]
     },
     "execution_count": 29,
     "metadata": {},
     "output_type": "execute_result"
    }
   ],
   "source": [
    "pmed/pmed.min()"
   ]
  },
  {
   "cell_type": "code",
   "execution_count": null,
   "metadata": {
    "collapsed": true
   },
   "outputs": [],
   "source": [
    "# Ahora seleccionamos los que cumplen al menos 1 de 3 criterios: humedad, lluvia, y dias con lluvia\n",
    "DAT3C=np.vstack((DATH,DATL,DATD))\n",
    "np.savetxt('datos3c.txt',DAT3C)"
   ]
  },
  {
   "cell_type": "code",
   "execution_count": null,
   "metadata": {
    "collapsed": true
   },
   "outputs": [],
   "source": [
    "%%bash\n",
    "awk '{print $0}' datos3c.txt | sort -n | uniq -c > listam3c.txt\n",
    "rm datos3c.txt"
   ]
  },
  {
   "cell_type": "code",
   "execution_count": null,
   "metadata": {
    "collapsed": true
   },
   "outputs": [],
   "source": [
    "# tabla de probabilidad (peso) para 3 variables que pueden o no cumplir criterios\n",
    "def genprob3(cumple):\n",
    "    if(cumple==3.):\n",
    "        return 1./8\n",
    "    if(cumple==2.):\n",
    "        return (3./8)*(1./4)\n",
    "    if(cumple==1.):\n",
    "        return (3./8)*(1./7)\n",
    "# se multiplica la anterior tabla con la tabla de probabilidad (peso) para el criterio de brillo \n",
    "# (casos de 12-24 horas de cielos despejados)\n",
    "def parseprob3(cumple,brillo):\n",
    "    if(brillo==2.):\n",
    "        return genprob3(cumple)*3./4\n",
    "    if(brillo==1.):\n",
    "        return genprob3(cumple)*1.\n",
    "    if(brillo==0.):\n",
    "        return genprob3(cumple)*1./2"
   ]
  },
  {
   "cell_type": "code",
   "execution_count": null,
   "metadata": {
    "collapsed": true
   },
   "outputs": [],
   "source": [
    "# generamos una lista con las estaciones que cumplen 1 de 3 criterios, y contamos cuantos de ellos son cumplidos\n",
    "listam3c=np.loadtxt('listam3c.txt')\n",
    "# contamos cuantas variables (humedad, lluvia, y dias con lluvia) fueron medidas\n",
    "df=pd.read_csv('lluvia.csv')\n",
    "tomados3c=np.zeros(len(listam3c[:,1]))\n",
    "for i in range(len(listam3c[:,1])):\n",
    "    for k in range(len(df.CODIGO)):\n",
    "        if(listam3c[i,1]==df.CODIGO[k]):\n",
    "            tomados3c[i]+=1\n",
    "df=pd.read_csv('humedad.csv')\n",
    "for i in range(len(listam3c[:,1])):\n",
    "    for k in range(len(df.CODIGO)):\n",
    "        if(listam3c[i,1]==df.CODIGO[k]):\n",
    "            tomados3c[i]+=1\n",
    "df=pd.read_csv('diaslluvia.csv')\n",
    "for i in range(len(listam3c[:,1])):\n",
    "    for k in range(len(df.CODIGO)):\n",
    "        if(listam3c[i,1]==df.CODIGO[k]):\n",
    "            tomados3c[i]+=1  \n",
    "# filtramos las que cumplen o pueden cumplir los 3 criterios (es decir, considerando los casos en los que no se midieron algunos de las variables)\n",
    "pfilter3c=tomados3c-listam3c[:,0]==0\n",
    "listacorta3c=listam3c[pfilter3c]\n",
    "# encontramos las estaciones en listacorta3c en las que se tomaron datos de brillo solar\n",
    "df=pd.read_csv('brillo.csv')\n",
    "tomados3cB=np.zeros(len(listacorta3c[:,1]))\n",
    "for i in range(len(listacorta3c[:,1])):\n",
    "    for k in range(len(df.CODIGO)):\n",
    "        if(listacorta3c[i,1]==df.CODIGO[k]):\n",
    "            tomados3cB[i]+=1 \n",
    "# encontramos las estaciones en listacorta3c que cumplen el criterio de brillo solar\n",
    "cbrillo3cB=np.zeros(len(listacorta3c[:,1]))\n",
    "for i in range(len(listacorta3c[:,1])):\n",
    "    for k in range(len(DATB[:,1])):\n",
    "        if(listacorta3c[i,1]==DATB[k,0]):\n",
    "            cbrillo3cB[i]+=1 \n",
    "# 0=no cumple el criterio de brillo solar, 1=si lo cumple, 2=no fue medido\n",
    "Brillo=2*(1-tomados3cB)+cbrillo3cB\n",
    "# genera un arreglo con pesos para cada estación\n",
    "probarr12=np.zeros(len(Brillo))\n",
    "for i in range(len(Brillo)):\n",
    "    probarr12[i]=parseprob3(listacorta3c[i,0],Brillo[i])\n",
    "# generación de lista expandida que incluye pesos enteros para cada estación\n",
    "lendata12=(probarr12*112*8).sum().astype(int)\n",
    "wdata12=(probarr12*112*8).astype(int)\n",
    "listaexp12=np.zeros((lendata12,5))\n",
    "kcount=0\n",
    "for i in range(len(probarr12)):        \n",
    "    for kinx in range(wdata12[i]):\n",
    "        listaexp12[kinx+kcount,:]=listacorta3c[i,:]\n",
    "    kcount=kcount+kinx+1   \n",
    "# clustering para datos sin escalar\n",
    "# clustering por mixtura gaussiana de la lista expandida, buscando un mínimo local para el criterio de información bayesiano\n",
    "# el agrupamiento se hace por lon,lat,alt\n",
    "cv_types = ['spherical', 'tied', 'diag', 'full']\n",
    "bicold=0\n",
    "compo=15\n",
    "BIC=np.zeros((compo+1,4))\n",
    "kik=0\n",
    "for cv_type in cv_types:\n",
    "    for kcomp in np.arange(compo)+1:        \n",
    "        gmm = GMM(kcomp, covariance_type=cv_type, random_state=0)\n",
    "        gmm.fit(listaexp12[:,2:5])\n",
    "#        if bicold<gmm.bic(listaexp12[:,2:5]):\n",
    "#        print cv_type,kcomp,gmm.bic(X_scaled[:,2:5]);\n",
    "        BIC[kcomp,kik]=gmm.bic(listaexp12[:,2:5])\n",
    "        bicold=gmm.bic(listaexp12[:,2:5])\n",
    "    kik+=1    \n",
    "# para los datos sin re-escalar, agrupamiento por mixtura gaussiana de 6 componentes\n",
    "# para kcomp=9 los importantes son 0,7 pero se mezclan mucho geográficamente\n",
    "# para kcomp=12 los importantes son 1,2,3,8 pero se mezclan mucho geográficamente \n",
    "kcomp=6\n",
    "gmm = GMM(kcomp, covariance_type='full', random_state=0)\n",
    "gmm.fit(listaexp12[:,2:5])\n",
    "cluster_label_stacked12 = gmm.predict(listaexp12[:,2:5])\n",
    "print kcomp, gmm.bic(listaexp12[:,2:5])\n",
    "# se almacenan los datos para procesarlos con bash con el fin de colapsar la lista expandida\n",
    "listastacked12=np.vstack((listaexp12.T,cluster_label_stacked12)).T\n",
    "np.savetxt('lisstck12.txt',listastacked12)\n",
    "    \n",
    "\n",
    "\n",
    "\n"
   ]
  },
  {
   "cell_type": "code",
   "execution_count": null,
   "metadata": {
    "collapsed": true
   },
   "outputs": [],
   "source": [
    "# peso estadístico para cada estación en listacorta3c\n",
    "plt.figure(figsize=(12,10))\n",
    "plt.scatter(-listacorta3c[:,2],-listacorta3c[:,3],c=probarr12,s=100)\n",
    "plt.colorbar()\n",
    "plt.scatter(colvec[:,0],colvec[:,1],s=1)\n",
    "plt.xlim(-85,-65)\n",
    "plt.ylim(-5,14)"
   ]
  },
  {
   "cell_type": "code",
   "execution_count": null,
   "metadata": {
    "collapsed": true
   },
   "outputs": [],
   "source": [
    "# distribución de pesos est. vs. altura\n",
    "plt.scatter(probarr12,listacorta3c[:,4])"
   ]
  },
  {
   "cell_type": "code",
   "execution_count": null,
   "metadata": {
    "collapsed": true
   },
   "outputs": [],
   "source": [
    "for i, cv_type in zip(range(4),cv_types):\n",
    "    plt.plot(np.arange(compo+1),BIC[:,i],label=cv_type)\n",
    "plt.legend()\n",
    "plt.xlim(0,15)\n",
    "plt.ylim(150000,240000)\n",
    "# mínimos locales en 6,9,12 componentes"
   ]
  },
  {
   "cell_type": "code",
   "execution_count": null,
   "metadata": {
    "collapsed": true
   },
   "outputs": [],
   "source": [
    "%%bash\n",
    "uniq -c lisstck12.txt > listcomp12.txt\n",
    "rm lisstck12.txt"
   ]
  },
  {
   "cell_type": "code",
   "execution_count": null,
   "metadata": {
    "collapsed": true
   },
   "outputs": [],
   "source": [
    "# distribución de grupos vs. altura vs. pesos estadísticos\n",
    "listcomp12=np.loadtxt('listcomp12.txt')\n",
    "plt.figure(figsize=(10,6))\n",
    "plt.scatter(listcomp12[:,6],listcomp12[:,5],c=probarr12*112*8,s=50)\n",
    "plt.colorbar()"
   ]
  },
  {
   "cell_type": "code",
   "execution_count": null,
   "metadata": {
    "collapsed": true
   },
   "outputs": [],
   "source": [
    "probfilter=(tomados-listam[:,0]==0)\n",
    "listacorta=listam[probfilter]\n",
    "listacortacu=tomadoscu[probfilter]\n",
    "incog=4-listam[:,0][probfilter]"
   ]
  },
  {
   "cell_type": "code",
   "execution_count": null,
   "metadata": {
    "collapsed": true
   },
   "outputs": [],
   "source": [
    "Asize=np.hstack((AL.shape[0],AD.shape[0],AH.shape[0],AB.shape[0]))\n",
    "ptomind=Asize*1./Asize.max()\n",
    "probtom=np.ones(listacortacu.shape[0])\n",
    "for i in range(listacortacu.shape[0]):\n",
    "    for k in range(2,4):\n",
    "        if(listacortacu[i,k]==1.):\n",
    "            probtom[i]=probtom[i]*ptomind[k]\n",
    "        if(listacortacu[i,k]==0.):\n",
    "            probtom[i]=probtom[i]*(1.-ptomind[k])\n",
    "        "
   ]
  },
  {
   "cell_type": "code",
   "execution_count": null,
   "metadata": {
    "collapsed": true
   },
   "outputs": [],
   "source": [
    "np.set_printoptions(suppress=True)\n",
    "#print np.around(np.hstack((listacortacu,listacortatipo[:,np.newaxis],listacorta[:,0][:,np.newaxis])),1)\n",
    "np.set_printoptions(suppress=False)"
   ]
  },
  {
   "cell_type": "code",
   "execution_count": null,
   "metadata": {
    "collapsed": true
   },
   "outputs": [],
   "source": [
    "plt.figure(figsize=(10,10))\n",
    "plt.scatter(-listacorta[:,2][incog==3.],-listacorta[:,3][incog==3.],c='b',s=200)\n",
    "plt.scatter(-listacorta[:,2][incog==2.],-listacorta[:,3][incog==2.],c='g',s=200)\n",
    "plt.scatter(-listacorta[:,2][incog==1.],-listacorta[:,3][incog==1.],c='y',s=200)\n",
    "plt.scatter(-listacorta[:,2][incog==0.],-listacorta[:,3][incog==0.],c='r',s=200)\n",
    "plt.scatter(colvec[:,0],colvec[:,1],s=1)\n",
    "plt.xlim(-85,-65)\n",
    "plt.ylim(-5,14)"
   ]
  },
  {
   "cell_type": "code",
   "execution_count": null,
   "metadata": {
    "collapsed": true
   },
   "outputs": [],
   "source": [
    "def genprob2(paux3,paux4):\n",
    "    p3=1./4\n",
    "    p4=1./16\n",
    "    p33=p3*paux3\n",
    "    p34=p4*paux4\n",
    "    return p33+p34  \n",
    "def parseprob3(i,j):\n",
    "    if((i==4.)&(j==0.)):\n",
    "        return genprob2(0.,1.)\n",
    "    if((i==3.)&(j==1.)):\n",
    "        return genprob2(0.,1./5)\n",
    "    if((i==2.)&(j==2.)):\n",
    "        return genprob2(0.,1./11)\n",
    "    if((i==1.)&(j==3.)):\n",
    "        return genprob2(0,1./15)"
   ]
  },
  {
   "cell_type": "code",
   "execution_count": null,
   "metadata": {
    "collapsed": true
   },
   "outputs": [],
   "source": [
    "probarr3=np.zeros(len(incog))\n",
    "for i in range(len(incog)):\n",
    "    probarr3[i]=parseprob3(listacorta[i,0],incog[i])"
   ]
  },
  {
   "cell_type": "code",
   "execution_count": null,
   "metadata": {
    "collapsed": true
   },
   "outputs": [],
   "source": [
    "# Generamos la lista maestra con el filtro de altura > 1500 msnm\n",
    "# Sospecho que esto no es necesario\n",
    "# Aqui usamos la funcion anterior, PP le indica a la funcion cuales grupos me interesan\n",
    "altfilt=1500\n",
    "PP=[0,3,4]\n",
    "DATB=stitch(PP,ALTB,LONB,LATB,CODB,altfilt)\n",
    "PP=[1]\n",
    "DATH=stitch(PP,ALTH,LONH,LATH,CODH,altfilt)\n",
    "PP=[1,4,6,10]\n",
    "DATL=stitch(PP,ALTL,LONL,LATL,CODL,altfilt)\n",
    "PP=[0,3,5]\n",
    "DATD=stitch(PP,ALTD,LOND,LATD,CODD,altfilt)\n",
    "# Se unen todas las variables en un solo arreglo, nos quedamos con 751 datos (hay repetidos)\n",
    "# En este arreglo estan todos los datos que cumplen por lo menos uno de los criterios, y quedan a mas de 1500 msnm\n",
    "# 0=codigo, 1,2=lonlat, 3=altura (segun la funcion stitch)\n",
    "DATT=np.vstack((DATB,DATH,DATL,DATD))\n",
    "np.savetxt('datos.txt',DATT)\n",
    "# Luego unificamos con las estaciones que cumplen al menos un criterio, stdout contiene lo que comunica el proceso\n",
    "# En este caso no hay nada porque todo quedó escrito en archivo, pero no sobra verificar\n",
    "proc = subprocess.Popen([\"awk '{{print $0}}' datos.txt | sort -n | uniq -c > listam.txt\"], stdout=subprocess.PIPE, shell=True)\n",
    "proc = subprocess.Popen([\"rm datos.txt\"], stdout=subprocess.PIPE, shell=True)\n",
    "proc = subprocess.Popen([\"ls\"], stdout=subprocess.PIPE, shell=True)\n",
    "listam=np.loadtxt('listam.txt')\n",
    "stdout = proc.communicate()[0]\n",
    "stdout.replace(\"\\n\",\" \")"
   ]
  },
  {
   "cell_type": "code",
   "execution_count": null,
   "metadata": {
    "collapsed": true
   },
   "outputs": [],
   "source": [
    "# Se unen todas las variables en un solo arreglo, nos quedamos con 751 datos (hay repetidos)\n",
    "# En este arreglo estan todos los datos que cumplen por lo menos uno de los criterios, y quedan a mas de 1500 msnm\n",
    "# 0=codigo, 1,2=lonlat, 3=altura (segun la funcion stitch)\n",
    "DATT_T=np.vstack((DATBT,DATHT,DATLT,DATDT))\n",
    "np.savetxt('datostodos.txt',DATT_T)\n",
    "# Luego unificamos con las estaciones que cumplen al menos un criterio, stdout contiene lo que comunica el proceso\n",
    "# En este caso no hay nada porque todo quedó escrito en archivo, pero no sobra verificar\n",
    "proc = subprocess.Popen([\"awk '{{print $0}}' datostodos.txt | sort -n | uniq -c > listatodos.txt\"], stdout=subprocess.PIPE, shell=True)\n",
    "proc = subprocess.Popen([\"rm datostodos.txt\"], stdout=subprocess.PIPE, shell=True)\n",
    "proc = subprocess.Popen([\"ls\"], stdout=subprocess.PIPE, shell=True)\n",
    "listatodos=np.loadtxt('listatodos.txt')\n",
    "stdout = proc.communicate()[0]\n",
    "stdout.replace(\"\\n\",\" \")pyum"
   ]
  },
  {
   "cell_type": "code",
   "execution_count": null,
   "metadata": {
    "collapsed": true
   },
   "outputs": [],
   "source": [
    "# Creo que esto sobra\n",
    "# Contamos cuantas variables fueron medidas por estacion, se almacena en tomados (cuyo indice coincide con el indice de listam)\n",
    "# PARA LAS QUE TIENEN FILTRO DE ALTURA > 1500 MSNM\n",
    "df=pd.read_csv('lluvia.csv')\n",
    "tomados=np.zeros(len(listam[:,1]))\n",
    "#tomadoscu=np.zeros((len(listam[:,1]),4))\n",
    "for i in range(len(listam[:,1])):\n",
    "    for k in range(len(df.CODIGO)):\n",
    "        if(listam[i,1]==df.CODIGO[k]):\n",
    "            tomados[i]+=1           \n",
    "df=pd.read_csv('diaslluvia.csv')\n",
    "for i in range(len(listam[:,1])):\n",
    "    for k in range(len(df.CODIGO)):\n",
    "        if(listam[i,1]==df.CODIGO[k]):\n",
    "            tomados[i]+=1  \n",
    "df=pd.read_csv('humedad.csv')\n",
    "for i in range(len(listam[:,1])):\n",
    "    for k in range(len(df.CODIGO)):\n",
    "        if(listam[i,1]==df.CODIGO[k]):\n",
    "            tomados[i]+=1\n",
    "df=pd.read_csv('brillo.csv')\n",
    "for i in range(len(listam[:,1])):\n",
    "    for k in range(len(df.CODIGO)):\n",
    "        if(listam[i,1]==df.CODIGO[k]):\n",
    "            tomados[i]+=1 "
   ]
  },
  {
   "cell_type": "code",
   "execution_count": null,
   "metadata": {
    "collapsed": true
   },
   "outputs": [],
   "source": []
  },
  {
   "cell_type": "code",
   "execution_count": null,
   "metadata": {
    "collapsed": true
   },
   "outputs": [],
   "source": [
    "#probabilidad inversa, qué tan probable es cumplir las cuatro condiciones?\n",
    "\n",
    "for k in range(numtipe):\n",
    "    paparece=1.\n",
    "    filter=(tipoest==k)\n",
    "    myrange=np.arange(tomadoscu.shape[1])[tomadoscu[filter][0]==1]\n",
    "    for j in myrange:\n",
    "        paparece*=(cumple[:,j+1]==1).sum()/2046.\n",
    "    print k,paparece\n",
    "    pClAnTiI[k]=paparece"
   ]
  },
  {
   "cell_type": "code",
   "execution_count": null,
   "metadata": {
    "collapsed": true
   },
   "outputs": [],
   "source": [
    "probtipo=np.zeros(len(listacorta))\n",
    "listacortatipo=np.zeros(len(listacorta))\n",
    "for i in range(len(listacorta)):\n",
    "    for k in range(len(tipoest)):\n",
    "        if(listacorta[i,1]==EST[k,1]):\n",
    "            probtipo[i]=ptipoe[(tipoest[k]).astype(int)]\n",
    "            listacortatipo[i]=tipoest[k]\n",
    "#            print i,k,tipoest[k],ptipoe[tipoest[k]]"
   ]
  },
  {
   "cell_type": "code",
   "execution_count": null,
   "metadata": {
    "collapsed": true
   },
   "outputs": [],
   "source": [
    "# pesos estadísticos normalizados considerando distribución de alturas para no. de medidas y no. de criterios\n",
    "aprob=np.vstack((ap1,ap2,ap3,ap4)).T\n",
    "x = np.linspace(0,4500 , 4501)\n",
    "normalt=1/aprob.max()/100\n",
    "probarr=np.zeros(len(probarr3))\n",
    "for i in range(len(probarr3)):\n",
    "    pdf=aprob[:,listacorta[i,0].astype(int)-1]\n",
    "    probarr[i]=probarr3[i]*165*16*np.around(1/pdf/normalt,0)[x==listacorta[i,4]][0]"
   ]
  },
  {
   "cell_type": "code",
   "execution_count": null,
   "metadata": {
    "collapsed": true
   },
   "outputs": [],
   "source": [
    "# la probabilidad\n",
    "# de que cumpla los otros tres criterios se calcula independientemente para cada criterio, es decir\n",
    "# 1036 estaciones cumplieron D, 187 cumplieron H, 227 cumplieron B\n",
    "# P(C|AnT0)=(1036/2046)*(183/2046)*(227/2046)\n",
    "pClAnTiD=np.zeros(numtipe)\n",
    "for k in range(numtipe):\n",
    "    filter=(tipoest==k)\n",
    "    paparece=1.\n",
    "    myrange=np.arange(tomadoscu.shape[1])[np.abs(tomadoscu[filter]-1)[0]==1]\n",
    "    for j in myrange:\n",
    "        paparece*=(cumple[:,j+1]==1).sum()*1./len(EST)\n",
    "    pClAnTiD[k]=paparece    \n"
   ]
  },
  {
   "cell_type": "code",
   "execution_count": null,
   "metadata": {
    "collapsed": true
   },
   "outputs": [],
   "source": [
    "medidas=tomadoscu.sum(axis=0)\n",
    "pTiI=np.zeros(numtipe)\n",
    "for k in range(numtipe):\n",
    "    filter=(tipoest==k)\n",
    "# probabilidad de tener el tipo de estación (independiente)\n",
    "# probabilidad de medir cada variable por aparte P(Ti)=P(MD)*P(MH)*P(MD)\n",
    "    pTiI[k]=np.prod((medidas*tomadoscu[filter][0]+(len(EST)-medidas)*np.abs(tomadoscu[filter][0]-1))/len(EST))\n"
   ]
  },
  {
   "cell_type": "code",
   "execution_count": null,
   "metadata": {
    "collapsed": true
   },
   "outputs": [],
   "source": []
  }
 ],
 "metadata": {
  "kernelspec": {
   "display_name": "Python 2",
   "language": "python",
   "name": "python2"
  },
  "language_info": {
   "codemirror_mode": {
    "name": "ipython",
    "version": 2
   },
   "file_extension": ".py",
   "mimetype": "text/x-python",
   "name": "python",
   "nbconvert_exporter": "python",
   "pygments_lexer": "ipython2",
   "version": "2.7.6"
  }
 },
 "nbformat": 4,
 "nbformat_minor": 0
}
