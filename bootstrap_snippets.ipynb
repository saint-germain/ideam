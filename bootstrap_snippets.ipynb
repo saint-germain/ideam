{
 "cells": [
  {
   "cell_type": "code",
   "execution_count": null,
   "metadata": {
    "collapsed": true
   },
   "outputs": [],
   "source": [
    "# sunshine = 2,0\n",
    "c1=0\n",
    "c2=3\n",
    "c3=4\n",
    "LNB1=LONB[:,c1][LONB[:,c1]!=0]\n",
    "LTB1=LATB[:,c1][LATB[:,c1]!=0]\n",
    "CDB1=CODB[:,c1][CODB[:,c1]!=0]\n",
    "ATB1=ALTB[:,c1][ALTB[:,c1]!=0]\n",
    "print [LNB1.size,LTB1.size,CDB1.size,ATB1.size]\n",
    "LNB2=LONB[:,c2][LONB[:,c2]!=0]\n",
    "LTB2=LATB[:,c2][LATB[:,c2]!=0]\n",
    "CDB2=CODB[:,c2][CODB[:,c2]!=0]\n",
    "ATB2=ALTB[:,c2][ALTB[:,c2]!=0]\n",
    "print [LNB2.size,LTB2.size,CDB2.size,ATB2.size]\n",
    "# precip = 0,1\n",
    "c1=0\n",
    "c2=1\n",
    "LNL1=LONL[:,c1][LONL[:,c1]!=0]\n",
    "LTL1=LATL[:,c1][LATL[:,c1]!=0]\n",
    "CDL1=CODL[:,c1][CODL[:,c1]!=0]\n",
    "ATL1=ALTL[:,c1][ALTL[:,c1]!=0]\n",
    "print [LNL1.size,LTL1.size,CDL1.size,ATL1.size]\n",
    "LNL2=LONL[:,c2][LONL[:,c2]!=0]\n",
    "LTL2=LATL[:,c2][LATL[:,c2]!=0]\n",
    "CDL2=CODL[:,c2][CODL[:,c2]!=0]\n",
    "ATL2=ALTL[:,c2][ALTL[:,c2]!=0]\n",
    "print [LNL2.size,LTL2.size,CDL2.size,ATL2.size]\n",
    "# rainy days: 2,0\n",
    "c1=2\n",
    "c2=0\n",
    "LND1=LOND[:,c1][LOND[:,c1]!=0]\n",
    "LTD1=LATD[:,c1][LATD[:,c1]!=0]\n",
    "CDD1=CODD[:,c1][CODD[:,c1]!=0]\n",
    "ATD1=ALTD[:,c1][ALTD[:,c1]!=0]\n",
    "print [LND1.size,LTD1.size,CDD1.size,ATD1.size]\n",
    "LND2=LOND[:,c2][LOND[:,c2]!=0]\n",
    "LTD2=LATD[:,c2][LATD[:,c2]!=0]\n",
    "CDD2=CODD[:,c2][CODD[:,c2]!=0]\n",
    "ATD2=ALTD[:,c2][ALTD[:,c2]!=0]\n",
    "print [LND2.size,LTD2.size,CDD2.size,ATD2.size]\n",
    "# humidity 1,3 (might be the opposite?)\n",
    "c1=1\n",
    "c2=3\n",
    "LNH1=LONH[:,c1][LONH[:,c1]!=0]\n",
    "LTH1=LATH[:,c1][LATH[:,c1]!=0]\n",
    "CDH1=CODH[:,c1][CODH[:,c1]!=0]\n",
    "ATH1=ALTH[:,c1][ALTH[:,c1]!=0]\n",
    "print [LNH1.size,LTH1.size,CDH1.size,ATH1.size]\n",
    "LNH2=LONH[:,c2][LONH[:,c2]!=0]\n",
    "LTH2=LATH[:,c2][LATH[:,c2]!=0]\n",
    "CDH2=CODH[:,c2][CODH[:,c2]!=0]\n",
    "ATH2=ALTH[:,c2][ALTH[:,c2]!=0]\n",
    "print [LNH2.size,LTH2.size,CDH2.size,ATH2.size]"
   ]
  },
  {
   "cell_type": "code",
   "execution_count": null,
   "metadata": {
    "collapsed": true
   },
   "outputs": [],
   "source": [
    "def mcsel(big,small):\n",
    "    MC=np.zeros(big)\n",
    "    for i in range(big):\n",
    "        MC[i]=np.random.random()<small*1./big\n",
    "    return MC.astype(bool)"
   ]
  },
  {
   "cell_type": "code",
   "execution_count": null,
   "metadata": {
    "collapsed": true
   },
   "outputs": [],
   "source": [
    "# stackear D y L y hacer el MC sobre esos\n",
    "MCclp=np.empty((0))\n",
    "MClnp=np.empty((0))\n",
    "MCltp=np.empty((0))\n",
    "MCatp=np.empty((0))\n",
    "iterations=10000\n",
    "for i in range(iterations):\n",
    "    DMC=mcsel(LND1.size,LNB1.size)\n",
    "    HMC=mcsel(LNH1.size,LNB1.size)\n",
    "    LMC=mcsel(LNL1.size,LNB1.size)\n",
    "    LNMC=np.hstack((LNB1,LND1[DMC],LNH1[HMC],LNL1[LMC]))\n",
    "    LTMC=np.hstack((LTB1,LTD1[DMC],LTH1[HMC],LTL1[LMC]))\n",
    "    ATMC=np.hstack((ATB1,ATD1[DMC],ATH1[HMC],ATL1[LMC]))\n",
    "    CDMC=np.hstack((CDB1,CDD1[DMC],CDH1[HMC],CDL1[LMC]))\n",
    "    MCdata=np.vstack((LNMC,LTMC,ATMC)).T\n",
    "    kcomp=2\n",
    "    kik=0\n",
    "    kikp=1\n",
    "    gmm = GMM(kcomp, covariance_type='full', random_state=0)\n",
    "    gmm.fit(MCdata)\n",
    "    cluster_label = gmm.predict(MCdata)\n",
    "    MCcl=np.append(MCcl,CDMC[cluster_label==kik])\n",
    "    MCln=np.append(MCln,LNMC[cluster_label==kik])\n",
    "    MClt=np.append(MClt,LTMC[cluster_label==kik])    \n",
    "    MCat=np.append(MCat,ATMC[cluster_label==kik])\n",
    "    MCclp=np.append(MCclp,CDMC[cluster_label==kikp])\n",
    "    MClnp=np.append(MClnp,LNMC[cluster_label==kikp])\n",
    "    MCltp=np.append(MCltp,LTMC[cluster_label==kikp])    \n",
    "    MCatp=np.append(MCatp,ATMC[cluster_label==kikp])\n",
    "   \n",
    "np.savetxt('mcresults.txt',np.c_[MCcl,MCln,MClt,MCat])\n",
    "np.savetxt('mcresultsp.txt',np.c_[MCclp,MClnp,MCltp,MCatp])"
   ]
  },
  {
   "cell_type": "code",
   "execution_count": null,
   "metadata": {
    "collapsed": true
   },
   "outputs": [],
   "source": [
    "%%bash\n",
    "\n",
    "cat mcresults.txt | sort -n | uniq -c | sort -nr > mcrescount.txt\n",
    "cat mcresultsp.txt | sort -n | uniq -c | sort -nr > mcrescountp.txt"
   ]
  },
  {
   "cell_type": "code",
   "execution_count": null,
   "metadata": {
    "collapsed": true
   },
   "outputs": [],
   "source": [
    "A=np.loadtxt('mcrescount.txt')\n",
    "FILTER=A[:,0]>800\n",
    "plt.scatter(-A[:, 2][FILTER], -A[:, 3][FILTER], c=A[:,0][FILTER])\n",
    "plt.colorbar()\n",
    "plt.xlim(-85,-65)\n",
    "plt.ylim(-5,14)"
   ]
  },
  {
   "cell_type": "code",
   "execution_count": null,
   "metadata": {
    "collapsed": true
   },
   "outputs": [],
   "source": [
    "A=np.loadtxt('mcrescountp.txt')\n",
    "FILTER=A[:,0]>1000\n",
    "plt.scatter(-A[:, 2][FILTER], -A[:, 3][FILTER], c=A[:,0][FILTER])\n",
    "plt.colorbar()\n",
    "plt.xlim(-85,-65)\n",
    "plt.ylim(-5,14)"
   ]
  },
  {
   "cell_type": "code",
   "execution_count": null,
   "metadata": {
    "collapsed": true
   },
   "outputs": [],
   "source": [
    "def genprob(paux3,paux4):\n",
    "    p3=1./4\n",
    "    p4=1./16\n",
    "    p33=p3*paux3\n",
    "    p34=p4*paux4\n",
    "    lott=np.random.random(1)\n",
    "    if(lott<(p33+p34)):\n",
    "        if(lott<p33):\n",
    "            return 3\n",
    "        elif(p33<=lott<p33+p34):\n",
    "            return 4\n",
    "    else:\n",
    "         return 0    "
   ]
  },
  {
   "cell_type": "code",
   "execution_count": null,
   "metadata": {
    "collapsed": true
   },
   "outputs": [],
   "source": [
    "def parseprob(i,j):\n",
    "    if((i==4.)&(j==0.)):\n",
    "        return genprob(0.,1.)\n",
    "    if((i==3.)&(j==0.)):\n",
    "        return genprob(1.,0.)\n",
    "    if((i==3.)&(j==1.)):\n",
    "        return genprob(4./5,1./5)\n",
    "    if((i==2.)&(j==1.)):\n",
    "        return genprob(4./10,0.)\n",
    "    if((i==2.)&(j==2.)):\n",
    "        return genprob(4./11,1./11)\n",
    "    if((i==1.)&(j==2.)):\n",
    "        return genprob(4./14,0.)\n",
    "    if((i==1.)&(j==3.)):\n",
    "        return genprob(4./15,1./15)"
   ]
  },
  {
   "cell_type": "code",
   "execution_count": 1,
   "metadata": {
    "collapsed": true
   },
   "outputs": [],
   "source": [
    "from sklearn.decomposition import PCA\n",
    "%matplotlib inline\n",
    "import numpy as np\n",
    "import matplotlib.pyplot as plt\n",
    "import pandas as pd\n",
    "from sklearn.mixture import GMM"
   ]
  },
  {
   "cell_type": "code",
   "execution_count": 65,
   "metadata": {
    "collapsed": false
   },
   "outputs": [],
   "source": [
    "# Contamos cuantas variables fueron medidas por estacion, se almacena en tomados (cuyo indice coincide con el indice de listam)\n",
    "listam=np.loadtxt('listam.txt')\n",
    "df=pd.read_csv('lluvia.csv')\n",
    "tomados=np.zeros((len(listam[:,1]),4))\n",
    "for i in range(len(listam[:,1])):\n",
    "    for k in range(len(df.CODIGO)):\n",
    "        if(listam[i,1]==df.CODIGO[k]):\n",
    "            tomados[i,0]+=1\n",
    "df=pd.read_csv('diaslluvia.csv')\n",
    "for i in range(len(listam[:,1])):\n",
    "    for k in range(len(df.CODIGO)):\n",
    "        if(listam[i,1]==df.CODIGO[k]):\n",
    "            tomados[i,1]+=1  \n",
    "df=pd.read_csv('humedad.csv')\n",
    "for i in range(len(listam[:,1])):\n",
    "    for k in range(len(df.CODIGO)):\n",
    "        if(listam[i,1]==df.CODIGO[k]):\n",
    "            tomados[i,2]+=1\n",
    "df=pd.read_csv('brillo.csv')\n",
    "for i in range(len(listam[:,1])):\n",
    "    for k in range(len(df.CODIGO)):\n",
    "        if(listam[i,1]==df.CODIGO[k]):\n",
    "            tomados[i,3]+=1 "
   ]
  },
  {
   "cell_type": "code",
   "execution_count": 80,
   "metadata": {
    "collapsed": false
   },
   "outputs": [
    {
     "data": {
      "text/plain": [
       "array([[  1.00000000e+00,   1.10250100e+07,   7.60841667e+01,\n",
       "         -5.87833333e+00,   2.10000000e+03],\n",
       "       [  2.00000000e+00,   1.10750100e+07,   7.61580556e+01,\n",
       "         -6.35638889e+00,   1.85000000e+03],\n",
       "       [  2.00000000e+00,   1.10750200e+07,   7.61397222e+01,\n",
       "         -6.32472222e+00,   1.85000000e+03],\n",
       "       ..., \n",
       "       [  2.00000000e+00,   5.40300900e+07,   7.63166667e+01,\n",
       "         -4.35000000e+00,   1.75000000e+03],\n",
       "       [  2.00000000e+00,   5.40301000e+07,   7.62333333e+01,\n",
       "         -4.66666667e+00,   1.52400000e+03],\n",
       "       [  2.00000000e+00,   5.40350200e+07,   7.61166667e+01,\n",
       "         -4.73333333e+00,   1.60000000e+03]])"
      ]
     },
     "execution_count": 80,
     "metadata": {},
     "output_type": "execute_result"
    }
   ],
   "source": [
    "listam"
   ]
  },
  {
   "cell_type": "code",
   "execution_count": 5,
   "metadata": {
    "collapsed": false
   },
   "outputs": [
    {
     "data": {
      "text/plain": [
       "array([[ 1.,  1.,  1.,  1.],\n",
       "       [ 1.,  1.,  1.,  1.],\n",
       "       [ 1.,  1.,  1.,  1.],\n",
       "       ..., \n",
       "       [ 1.,  0.,  1.,  0.],\n",
       "       [ 1.,  0.,  1.,  0.],\n",
       "       [ 1.,  1.,  1.,  1.]])"
      ]
     },
     "execution_count": 5,
     "metadata": {},
     "output_type": "execute_result"
    }
   ],
   "source": [
    "(tomados[:,0]*336./2046)*(tomados[:,1]*336./445)*(tomados[:,2]*336./2002)"
   ]
  },
  {
   "cell_type": "code",
   "execution_count": 66,
   "metadata": {
    "collapsed": false
   },
   "outputs": [],
   "source": [
    "LLUVIA=tomados[:,0]+tomados[:,1]"
   ]
  },
  {
   "cell_type": "code",
   "execution_count": 67,
   "metadata": {
    "collapsed": true
   },
   "outputs": [],
   "source": [
    "HUBR=tomados[:,2]+tomados[:,3]"
   ]
  },
  {
   "cell_type": "code",
   "execution_count": 68,
   "metadata": {
    "collapsed": false
   },
   "outputs": [
    {
     "data": {
      "text/plain": [
       "array([[ 1.,  1.,  1.,  1.],\n",
       "       [ 1.,  1.,  1.,  1.],\n",
       "       [ 1.,  1.,  1.,  1.],\n",
       "       ..., \n",
       "       [ 1.,  1.,  0.,  0.],\n",
       "       [ 1.,  1.,  0.,  0.],\n",
       "       [ 1.,  1.,  1.,  1.]])"
      ]
     },
     "execution_count": 68,
     "metadata": {},
     "output_type": "execute_result"
    }
   ],
   "source": [
    "tomados[LLUVIA==2]"
   ]
  },
  {
   "cell_type": "code",
   "execution_count": 78,
   "metadata": {
    "collapsed": false
   },
   "outputs": [
    {
     "data": {
      "text/plain": [
       "array([[ 1.,  1.,  0.,  1.],\n",
       "       [ 1.,  1.,  0.,  1.]])"
      ]
     },
     "execution_count": 78,
     "metadata": {},
     "output_type": "execute_result"
    }
   ],
   "source": [
    "tomados[(tomados[:,2]==0)*(tomados[:,3]==1)*(LLUVIA==2)]"
   ]
  },
  {
   "cell_type": "code",
   "execution_count": 82,
   "metadata": {
    "collapsed": false
   },
   "outputs": [
    {
     "data": {
      "text/plain": [
       "array([ 1.,  3.])"
      ]
     },
     "execution_count": 82,
     "metadata": {},
     "output_type": "execute_result"
    }
   ],
   "source": [
    "listam[(tomados[:,2]==0)*(tomados[:,3]==1)*(LLUVIA==2),0]"
   ]
  },
  {
   "cell_type": "code",
   "execution_count": 56,
   "metadata": {
    "collapsed": false
   },
   "outputs": [
    {
     "data": {
      "text/plain": [
       "array([[ 1.,  1.,  1.,  0.],\n",
       "       [ 1.,  1.,  1.,  0.],\n",
       "       [ 1.,  1.,  1.,  0.],\n",
       "       [ 1.,  1.,  1.,  0.],\n",
       "       [ 1.,  1.,  1.,  0.],\n",
       "       [ 1.,  0.,  1.,  0.],\n",
       "       [ 1.,  1.,  1.,  1.],\n",
       "       [ 1.,  1.,  1.,  1.],\n",
       "       [ 1.,  0.,  1.,  0.],\n",
       "       [ 1.,  1.,  1.,  0.],\n",
       "       [ 1.,  0.,  1.,  0.],\n",
       "       [ 1.,  1.,  1.,  1.],\n",
       "       [ 1.,  1.,  1.,  0.],\n",
       "       [ 1.,  1.,  1.,  0.],\n",
       "       [ 1.,  0.,  1.,  0.],\n",
       "       [ 1.,  0.,  1.,  0.],\n",
       "       [ 1.,  0.,  0.,  0.],\n",
       "       [ 1.,  0.,  1.,  0.],\n",
       "       [ 1.,  0.,  1.,  0.],\n",
       "       [ 1.,  0.,  1.,  0.],\n",
       "       [ 1.,  0.,  1.,  0.],\n",
       "       [ 1.,  0.,  1.,  0.],\n",
       "       [ 1.,  0.,  1.,  0.],\n",
       "       [ 1.,  0.,  1.,  0.],\n",
       "       [ 1.,  0.,  0.,  0.],\n",
       "       [ 1.,  0.,  1.,  0.],\n",
       "       [ 1.,  0.,  1.,  0.],\n",
       "       [ 1.,  0.,  1.,  0.],\n",
       "       [ 1.,  0.,  1.,  0.],\n",
       "       [ 1.,  0.,  1.,  0.],\n",
       "       [ 1.,  1.,  1.,  1.],\n",
       "       [ 1.,  0.,  1.,  0.],\n",
       "       [ 1.,  0.,  1.,  0.]])"
      ]
     },
     "execution_count": 56,
     "metadata": {},
     "output_type": "execute_result"
    }
   ],
   "source": [
    "tomados[(LLUVIA[LLUVIA==2]+BRHUM[LLUVIA==2])==3]"
   ]
  },
  {
   "cell_type": "code",
   "execution_count": 47,
   "metadata": {
    "collapsed": false
   },
   "outputs": [
    {
     "data": {
      "text/plain": [
       "92"
      ]
     },
     "execution_count": 47,
     "metadata": {},
     "output_type": "execute_result"
    }
   ],
   "source": [
    "((tomados[:,2]==1)*(tomados[:,1]==1)*(tomados[:,3]==1)).sum()"
   ]
  },
  {
   "cell_type": "code",
   "execution_count": 16,
   "metadata": {
    "collapsed": false
   },
   "outputs": [
    {
     "data": {
      "text/plain": [
       "array([ 0.16422287,  0.75505618,  0.16783217,  1.        ])"
      ]
     },
     "execution_count": 16,
     "metadata": {},
     "output_type": "execute_result"
    }
   ],
   "source": [
    "ptom=336./np.array([2046.,445.,2002.,336.])\n",
    "ptom"
   ]
  },
  {
   "cell_type": "code",
   "execution_count": 19,
   "metadata": {
    "collapsed": false
   },
   "outputs": [],
   "source": [
    "pmed=np.zeros(len(listam[:,1]))\n",
    "for i in range(len(listam[:,1])):\n",
    "    pmed[i]=1.\n",
    "    for k in range(4):\n",
    "        if(tomados[i,k]==1.):\n",
    "            pmed[i]=pmed[i]*ptom[k]"
   ]
  },
  {
   "cell_type": "code",
   "execution_count": 25,
   "metadata": {
    "collapsed": false
   },
   "outputs": [
    {
     "data": {
      "text/plain": [
       "103"
      ]
     },
     "execution_count": 25,
     "metadata": {},
     "output_type": "execute_result"
    }
   ],
   "source": [
    "np.argmax(pmed)"
   ]
  },
  {
   "cell_type": "code",
   "execution_count": 27,
   "metadata": {
    "collapsed": false
   },
   "outputs": [
    {
     "data": {
      "text/plain": [
       "array([ 1.,  0.,  0.,  0.])"
      ]
     },
     "execution_count": 27,
     "metadata": {},
     "output_type": "execute_result"
    }
   ],
   "source": [
    "tomados[np.argmax(pmed)]"
   ]
  },
  {
   "cell_type": "code",
   "execution_count": 31,
   "metadata": {
    "collapsed": false
   },
   "outputs": [
    {
     "data": {
      "text/plain": [
       "array([ 1.        ,  1.32440476,  5.95833333,  7.89124504])"
      ]
     },
     "execution_count": 31,
     "metadata": {},
     "output_type": "execute_result"
    }
   ],
   "source": [
    "np.unique(pmed/pmed.min())"
   ]
  },
  {
   "cell_type": "code",
   "execution_count": 33,
   "metadata": {
    "collapsed": false
   },
   "outputs": [
    {
     "data": {
      "text/plain": [
       "(array([ 123.,  377.,    0.,    0.,    0.,    0.,    0.,    0.,    0.,\n",
       "           0.,    0.,    0.,    0.,    0.,    0.,    0.,    0.,    0.,\n",
       "           0.,    0.,    0.,    2.,    0.,    0.,    0.,    0.,    0.,\n",
       "           0.,    0.,    8.]),\n",
       " array([ 1.        ,  1.22970817,  1.45941634,  1.6891245 ,  1.91883267,\n",
       "         2.14854084,  2.37824901,  2.60795718,  2.83766534,  3.06737351,\n",
       "         3.29708168,  3.52678985,  3.75649802,  3.98620618,  4.21591435,\n",
       "         4.44562252,  4.67533069,  4.90503886,  5.13474702,  5.36445519,\n",
       "         5.59416336,  5.82387153,  6.0535797 ,  6.28328786,  6.51299603,\n",
       "         6.7427042 ,  6.97241237,  7.20212054,  7.4318287 ,  7.66153687,\n",
       "         7.89124504]),\n",
       " <a list of 30 Patch objects>)"
      ]
     },
     "execution_count": 33,
     "metadata": {},
     "output_type": "execute_result"
    },
    {
     "data": {
      "image/png": "[encoded data removed]",
      "text/plain": [
       "<matplotlib.figure.Figure at 0x7f28438ab350>"
      ]
     },
     "metadata": {},
     "output_type": "display_data"
    }
   ],
   "source": [
    "plt.hist(pmed/pmed.min(), bins=30)"
   ]
  },
  {
   "cell_type": "code",
   "execution_count": 29,
   "metadata": {
    "collapsed": false
   },
   "outputs": [
    {
     "data": {
      "text/plain": [
       "array([ 1.        ,  1.        ,  1.        ,  1.32440476,  1.        ,\n",
       "        1.        ,  1.        ,  1.        ,  1.32440476,  1.32440476,\n",
       "        1.32440476,  1.32440476,  1.32440476,  1.32440476,  1.32440476,\n",
       "        1.32440476,  1.32440476,  1.32440476,  1.32440476,  1.32440476,\n",
       "        1.32440476,  1.32440476,  1.32440476,  1.32440476,  1.32440476,\n",
       "        1.32440476,  1.32440476,  1.        ,  1.32440476,  1.32440476,\n",
       "        1.32440476,  1.32440476,  1.32440476,  1.32440476,  1.32440476,\n",
       "        1.32440476,  1.32440476,  1.        ,  1.32440476,  1.32440476,\n",
       "        1.        ,  1.32440476,  1.32440476,  1.32440476,  1.        ,\n",
       "        1.32440476,  1.        ,  1.32440476,  1.32440476,  1.32440476,\n",
       "        1.32440476,  1.32440476,  1.32440476,  1.32440476,  1.        ,\n",
       "        1.32440476,  1.        ,  1.32440476,  1.32440476,  1.32440476,\n",
       "        1.32440476,  1.32440476,  1.32440476,  1.32440476,  1.32440476,\n",
       "        1.32440476,  1.32440476,  1.32440476,  1.32440476,  1.32440476,\n",
       "        1.32440476,  1.32440476,  1.32440476,  1.32440476,  1.32440476,\n",
       "        1.32440476,  1.32440476,  1.32440476,  1.32440476,  1.32440476,\n",
       "        1.32440476,  1.32440476,  1.32440476,  1.32440476,  1.32440476,\n",
       "        1.32440476,  1.32440476,  1.32440476,  1.32440476,  1.32440476,\n",
       "        1.32440476,  1.32440476,  1.32440476,  1.32440476,  1.32440476,\n",
       "        1.32440476,  1.32440476,  1.32440476,  1.32440476,  1.32440476,\n",
       "        1.32440476,  1.32440476,  1.32440476,  7.89124504,  1.32440476,\n",
       "        1.32440476,  1.32440476,  1.32440476,  1.32440476,  1.32440476,\n",
       "        1.32440476,  1.32440476,  1.32440476,  1.32440476,  1.32440476,\n",
       "        1.32440476,  1.32440476,  1.32440476,  1.32440476,  1.32440476,\n",
       "        1.32440476,  1.32440476,  1.32440476,  1.32440476,  1.32440476,\n",
       "        1.32440476,  1.32440476,  1.32440476,  1.        ,  1.32440476,\n",
       "        1.32440476,  1.        ,  1.32440476,  1.        ,  1.        ,\n",
       "        1.32440476,  1.        ,  1.        ,  1.        ,  1.32440476,\n",
       "        1.        ,  1.        ,  1.        ,  1.        ,  1.        ,\n",
       "        1.        ,  1.32440476,  1.32440476,  1.32440476,  1.32440476,\n",
       "        1.        ,  1.32440476,  1.32440476,  1.        ,  1.32440476,\n",
       "        1.32440476,  1.        ,  1.32440476,  1.        ,  1.        ,\n",
       "        1.        ,  1.        ,  1.32440476,  1.32440476,  1.32440476,\n",
       "        1.32440476,  1.32440476,  7.89124504,  1.32440476,  1.32440476,\n",
       "        1.32440476,  1.32440476,  1.32440476,  1.32440476,  1.32440476,\n",
       "        1.32440476,  1.        ,  1.        ,  1.32440476,  1.32440476,\n",
       "        7.89124504,  1.32440476,  1.32440476,  1.32440476,  1.32440476,\n",
       "        1.32440476,  7.89124504,  1.        ,  1.        ,  1.32440476,\n",
       "        7.89124504,  1.        ,  1.32440476,  1.32440476,  1.32440476,\n",
       "        1.32440476,  1.32440476,  1.32440476,  1.        ,  1.32440476,\n",
       "        1.32440476,  1.32440476,  1.        ,  1.        ,  1.        ,\n",
       "        1.32440476,  1.        ,  1.        ,  1.        ,  1.        ,\n",
       "        1.32440476,  1.32440476,  1.        ,  1.32440476,  1.32440476,\n",
       "        1.32440476,  1.32440476,  1.        ,  1.        ,  1.        ,\n",
       "        1.32440476,  1.32440476,  1.32440476,  1.32440476,  1.32440476,\n",
       "        1.32440476,  1.32440476,  1.32440476,  1.32440476,  1.32440476,\n",
       "        1.32440476,  1.32440476,  1.32440476,  1.32440476,  1.32440476,\n",
       "        1.32440476,  1.32440476,  1.32440476,  1.32440476,  1.32440476,\n",
       "        1.32440476,  1.32440476,  1.32440476,  1.32440476,  1.32440476,\n",
       "        1.32440476,  1.        ,  1.        ,  1.32440476,  1.        ,\n",
       "        1.32440476,  1.32440476,  1.        ,  1.        ,  1.        ,\n",
       "        1.32440476,  1.32440476,  1.        ,  1.32440476,  1.32440476,\n",
       "        1.32440476,  1.32440476,  1.32440476,  1.32440476,  1.32440476,\n",
       "        1.32440476,  1.32440476,  1.32440476,  1.32440476,  1.32440476,\n",
       "        1.32440476,  1.32440476,  1.32440476,  1.32440476,  1.32440476,\n",
       "        1.32440476,  1.32440476,  1.32440476,  1.32440476,  1.32440476,\n",
       "        1.32440476,  1.32440476,  1.32440476,  1.32440476,  1.32440476,\n",
       "        1.32440476,  1.32440476,  1.32440476,  1.32440476,  1.32440476,\n",
       "        1.32440476,  1.32440476,  1.32440476,  1.32440476,  1.32440476,\n",
       "        1.32440476,  1.32440476,  1.32440476,  1.32440476,  1.32440476,\n",
       "        1.32440476,  1.32440476,  1.32440476,  1.32440476,  1.32440476,\n",
       "        1.32440476,  1.        ,  1.        ,  1.        ,  1.        ,\n",
       "        1.        ,  1.        ,  1.32440476,  1.        ,  1.        ,\n",
       "        7.89124504,  1.        ,  1.        ,  1.        ,  1.32440476,\n",
       "        1.        ,  1.        ,  1.        ,  1.        ,  1.        ,\n",
       "        1.32440476,  1.32440476,  1.        ,  1.32440476,  1.32440476,\n",
       "        1.32440476,  1.32440476,  1.32440476,  1.32440476,  1.32440476,\n",
       "        1.        ,  1.        ,  1.        ,  1.32440476,  1.32440476,\n",
       "        1.32440476,  1.32440476,  1.32440476,  1.32440476,  1.32440476,\n",
       "        1.32440476,  1.32440476,  1.32440476,  1.32440476,  1.32440476,\n",
       "        1.32440476,  1.32440476,  1.32440476,  7.89124504,  1.32440476,\n",
       "        1.        ,  1.32440476,  1.32440476,  1.32440476,  1.32440476,\n",
       "        1.32440476,  1.32440476,  1.32440476,  1.        ,  1.32440476,\n",
       "        1.32440476,  1.32440476,  1.32440476,  1.32440476,  1.32440476,\n",
       "        5.95833333,  1.32440476,  1.        ,  1.        ,  1.        ,\n",
       "        1.        ,  1.32440476,  1.        ,  1.        ,  1.        ,\n",
       "        1.        ,  1.32440476,  1.        ,  1.32440476,  1.32440476,\n",
       "        1.32440476,  1.        ,  1.32440476,  1.        ,  1.32440476,\n",
       "        1.32440476,  1.32440476,  1.32440476,  1.32440476,  1.        ,\n",
       "        1.        ,  1.        ,  1.32440476,  1.        ,  1.32440476,\n",
       "        1.32440476,  1.32440476,  1.32440476,  1.32440476,  1.32440476,\n",
       "        7.89124504,  1.32440476,  1.32440476,  1.32440476,  1.32440476,\n",
       "        1.        ,  1.        ,  1.        ,  1.32440476,  1.32440476,\n",
       "        1.32440476,  1.32440476,  1.32440476,  1.32440476,  1.        ,\n",
       "        1.32440476,  1.32440476,  1.32440476,  1.32440476,  1.32440476,\n",
       "        1.32440476,  1.32440476,  1.32440476,  1.32440476,  1.32440476,\n",
       "        1.32440476,  1.32440476,  1.32440476,  1.32440476,  1.32440476,\n",
       "        1.        ,  1.        ,  1.        ,  1.32440476,  1.        ,\n",
       "        1.32440476,  1.32440476,  1.        ,  1.32440476,  1.32440476,\n",
       "        1.32440476,  1.32440476,  1.32440476,  1.32440476,  1.        ,\n",
       "        1.        ,  1.        ,  1.32440476,  1.32440476,  1.        ,\n",
       "        1.        ,  1.32440476,  1.32440476,  1.32440476,  1.32440476,\n",
       "        1.32440476,  1.32440476,  1.32440476,  1.        ,  1.32440476,\n",
       "        1.32440476,  1.32440476,  1.32440476,  1.        ,  1.        ,\n",
       "        1.        ,  1.32440476,  1.32440476,  1.32440476,  1.32440476,\n",
       "        1.32440476,  1.32440476,  1.32440476,  1.32440476,  1.32440476,\n",
       "        1.32440476,  1.32440476,  1.        ,  1.        ,  1.        ,\n",
       "        1.        ,  1.32440476,  1.32440476,  1.32440476,  1.32440476,\n",
       "        1.32440476,  1.32440476,  1.32440476,  1.32440476,  1.32440476,\n",
       "        1.32440476,  1.32440476,  1.32440476,  1.        ,  1.        ,\n",
       "        1.        ,  5.95833333,  1.        ,  1.        ,  1.32440476,\n",
       "        1.32440476,  1.32440476,  1.32440476,  1.32440476,  1.        ])"
      ]
     },
     "execution_count": 29,
     "metadata": {},
     "output_type": "execute_result"
    }
   ],
   "source": [
    "pmed/pmed.min()"
   ]
  },
  {
   "cell_type": "code",
   "execution_count": null,
   "metadata": {
    "collapsed": true
   },
   "outputs": [],
   "source": []
  },
  {
   "cell_type": "code",
   "execution_count": null,
   "metadata": {
    "collapsed": true
   },
   "outputs": [],
   "source": []
  },
  {
   "cell_type": "code",
   "execution_count": null,
   "metadata": {
    "collapsed": true
   },
   "outputs": [],
   "source": []
  },
  {
   "cell_type": "code",
   "execution_count": null,
   "metadata": {
    "collapsed": true
   },
   "outputs": [],
   "source": []
  },
  {
   "cell_type": "code",
   "execution_count": null,
   "metadata": {
    "collapsed": true
   },
   "outputs": [],
   "source": []
  },
  {
   "cell_type": "code",
   "execution_count": null,
   "metadata": {
    "collapsed": true
   },
   "outputs": [],
   "source": []
  },
  {
   "cell_type": "code",
   "execution_count": null,
   "metadata": {
    "collapsed": true
   },
   "outputs": [],
   "source": []
  }
 ],
 "metadata": {
  "kernelspec": {
   "display_name": "Python 2",
   "language": "python",
   "name": "python2"
  },
  "language_info": {
   "codemirror_mode": {
    "name": "ipython",
    "version": 2
   },
   "file_extension": ".py",
   "mimetype": "text/x-python",
   "name": "python",
   "nbconvert_exporter": "python",
   "pygments_lexer": "ipython2",
   "version": "2.7.6"
  }
 },
 "nbformat": 4,
 "nbformat_minor": 0
}
